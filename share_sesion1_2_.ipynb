{
  "nbformat": 4,
  "nbformat_minor": 0,
  "metadata": {
    "kernelspec": {
      "display_name": "Python 3",
      "language": "python",
      "name": "python3"
    },
    "language_info": {
      "codemirror_mode": {
        "name": "ipython",
        "version": 3
      },
      "file_extension": ".py",
      "mimetype": "text/x-python",
      "name": "python",
      "nbconvert_exporter": "python",
      "pygments_lexer": "ipython3",
      "version": "3.9.1"
    },
    "colab": {
      "name": "share_sesion1-2_.ipynb",
      "provenance": [],
      "collapsed_sections": [],
      "include_colab_link": true
    }
  },
  "cells": [
    {
      "cell_type": "markdown",
      "metadata": {
        "id": "view-in-github",
        "colab_type": "text"
      },
      "source": [
        "<a href=\"https://colab.research.google.com/github/melipass/pcp-datos-cosmologicos/blob/main/share_sesion1_2_.ipynb\" target=\"_parent\"><img src=\"https://colab.research.google.com/assets/colab-badge.svg\" alt=\"Open In Colab\"/></a>"
      ]
    },
    {
      "cell_type": "markdown",
      "metadata": {
        "id": "zcgk6d7Ly8z8"
      },
      "source": [
        "<center>\n",
        "<img src=\"https://habrastorage.org/webt/jq/gc/r5/jqgcr5azmatev6zvgufn8xftehy.png\">\n",
        "    \n",
        "\n",
        "    \n",
        "# Análisis de datos cosmológicos y el problema de la constante de Hubble usando Python\n",
        "\n",
        "### Autor: David F. Camarena Torres"
      ]
    },
    {
      "cell_type": "markdown",
      "metadata": {
        "tags": [],
        "id": "iB5HDXTvy80a"
      },
      "source": [
        "# <center> Sesión 1.2 Local determination of the Hubble constant and the deceleration parameter\n",
        "[arXiv:1906.11814](https://arxiv.org/abs/1906.11814)    \n",
        "\n",
        "\n",
        "# Outline\n",
        "1. [Magnitud absoluta de Supernovas](#1.-MB)\n",
        "2. [Analises SH0ES](#2.-SH0ES)\n",
        "3. [Determinacion local de $H_0$ y $q_0$](#3.-H0/q0)"
      ]
    },
    {
      "cell_type": "markdown",
      "metadata": {
        "id": "cRPZbw0Yy80e"
      },
      "source": [
        "<center>\n",
        "<img src=\"https://upload.wikimedia.org/wikipedia/commons/2/23/Cosmic_distance_ladder.jpg\">"
      ]
    },
    {
      "cell_type": "markdown",
      "metadata": {
        "id": "Hgxu-fbJy80g"
      },
      "source": [
        "## 1.-MB\n",
        "\n",
        "Observacion de la curva de luz de supernovas del Tipo Ia permite determinar $m_B$ \n",
        "\n",
        "Necesitan ser calibradras para ofrecer distancias cosmologicas:\n",
        "\n",
        "$$m_B(z) = 5\\log_{10}\\frac{d_L(z)}{\\rm 1 Mpc}+25 + M_B$$"
      ]
    },
    {
      "cell_type": "code",
      "metadata": {
        "id": "8tErSR-ry80j"
      },
      "source": [
        "import matplotlib.pyplot as plt\n",
        "import numpy as np\n",
        "import pandas\n",
        "\n",
        "plt.rcParams['font.size'] = '18'"
      ],
      "execution_count": null,
      "outputs": []
    },
    {
      "cell_type": "code",
      "metadata": {
        "id": "HI9TrHHIzB7R",
        "colab": {
          "base_uri": "https://localhost:8080/"
        },
        "outputId": "79df79ba-42ca-447b-aee4-8d9c1edef10e"
      },
      "source": [
        "! pip install gdown\n",
        "import os \n",
        "if not 'datos_sesion1-2.tar.gz' in os.listdir():\n",
        "  ! gdown --id 1Xiw04RSjKvdOjLB7BQxFNVgH54yh5RRp --output datos_sesion1-2.tar.gz\n",
        "  ! tar -xvf datos_sesion1-2.tar.gz"
      ],
      "execution_count": null,
      "outputs": [
        {
          "output_type": "stream",
          "text": [
            "Requirement already satisfied: gdown in /usr/local/lib/python3.7/dist-packages (3.6.4)\n",
            "Requirement already satisfied: tqdm in /usr/local/lib/python3.7/dist-packages (from gdown) (4.41.1)\n",
            "Requirement already satisfied: six in /usr/local/lib/python3.7/dist-packages (from gdown) (1.15.0)\n",
            "Requirement already satisfied: requests in /usr/local/lib/python3.7/dist-packages (from gdown) (2.23.0)\n",
            "Requirement already satisfied: urllib3!=1.25.0,!=1.25.1,<1.26,>=1.21.1 in /usr/local/lib/python3.7/dist-packages (from requests->gdown) (1.24.3)\n",
            "Requirement already satisfied: certifi>=2017.4.17 in /usr/local/lib/python3.7/dist-packages (from requests->gdown) (2020.12.5)\n",
            "Requirement already satisfied: chardet<4,>=3.0.2 in /usr/local/lib/python3.7/dist-packages (from requests->gdown) (3.0.4)\n",
            "Requirement already satisfied: idna<3,>=2.5 in /usr/local/lib/python3.7/dist-packages (from requests->gdown) (2.10)\n",
            "Downloading...\n",
            "From: https://drive.google.com/uc?id=1Xiw04RSjKvdOjLB7BQxFNVgH54yh5RRp\n",
            "To: /content/datos_sesion1-2.tar.gz\n",
            "100% 172k/172k [00:00<00:00, 62.9MB/s]\n",
            "datos_sesion1-2/\n",
            "datos_sesion1-2/Pantheon-low/\n",
            "datos_sesion1-2/Pantheon-low/cov_low-sne.dat\n",
            "datos_sesion1-2/Pantheon-low/low-sne.txt\n"
          ],
          "name": "stdout"
        }
      ]
    },
    {
      "cell_type": "code",
      "metadata": {
        "colab": {
          "base_uri": "https://localhost:8080/",
          "height": 301
        },
        "id": "mnwv3l8Ry80o",
        "outputId": "f80e26d9-1f42-4b5c-d35a-80e7ba383573"
      },
      "source": [
        "sne_datos = pandas.read_table('datos_sesion1-2/Pantheon-low/low-sne.txt',sep='\\t')\n",
        "\n",
        "cov_sne = pandas.read_table('datos_sesion1-2/Pantheon-low/cov_low-sne.dat')\n",
        "cov_sne = np.array(cov_sne).reshape((237, 237))\n",
        "\n",
        "sne_datos.head()"
      ],
      "execution_count": null,
      "outputs": [
        {
          "output_type": "execute_result",
          "data": {
            "text/html": [
              "<div>\n",
              "<style scoped>\n",
              "    .dataframe tbody tr th:only-of-type {\n",
              "        vertical-align: middle;\n",
              "    }\n",
              "\n",
              "    .dataframe tbody tr th {\n",
              "        vertical-align: top;\n",
              "    }\n",
              "\n",
              "    .dataframe thead th {\n",
              "        text-align: right;\n",
              "    }\n",
              "</style>\n",
              "<table border=\"1\" class=\"dataframe\">\n",
              "  <thead>\n",
              "    <tr style=\"text-align: right;\">\n",
              "      <th></th>\n",
              "      <th>#name</th>\n",
              "      <th>zcmb</th>\n",
              "      <th>zhel</th>\n",
              "      <th>dz</th>\n",
              "      <th>mb</th>\n",
              "      <th>dmb</th>\n",
              "      <th>x1</th>\n",
              "      <th>dx1</th>\n",
              "      <th>color</th>\n",
              "      <th>dcolor</th>\n",
              "      <th>3rdvar</th>\n",
              "      <th>d3rdvar</th>\n",
              "      <th>cov_m_s</th>\n",
              "      <th>cov_m_c</th>\n",
              "      <th>cov_s_c</th>\n",
              "      <th>set</th>\n",
              "      <th>ra</th>\n",
              "      <th>dec</th>\n",
              "      <th>biascor</th>\n",
              "    </tr>\n",
              "  </thead>\n",
              "  <tbody>\n",
              "    <tr>\n",
              "      <th>0</th>\n",
              "      <td>06D2fb</td>\n",
              "      <td>0.12531</td>\n",
              "      <td>0.12531</td>\n",
              "      <td>0.0</td>\n",
              "      <td>19.46840</td>\n",
              "      <td>0.10355</td>\n",
              "      <td>0</td>\n",
              "      <td>0</td>\n",
              "      <td>0</td>\n",
              "      <td>0</td>\n",
              "      <td>0</td>\n",
              "      <td>0</td>\n",
              "      <td>0</td>\n",
              "      <td>0</td>\n",
              "      <td>0</td>\n",
              "      <td>0</td>\n",
              "      <td>0</td>\n",
              "      <td>0</td>\n",
              "      <td>NaN</td>\n",
              "    </tr>\n",
              "    <tr>\n",
              "      <th>1</th>\n",
              "      <td>744</td>\n",
              "      <td>0.12679</td>\n",
              "      <td>0.12679</td>\n",
              "      <td>0.0</td>\n",
              "      <td>19.54290</td>\n",
              "      <td>0.11965</td>\n",
              "      <td>0</td>\n",
              "      <td>0</td>\n",
              "      <td>0</td>\n",
              "      <td>0</td>\n",
              "      <td>0</td>\n",
              "      <td>0</td>\n",
              "      <td>0</td>\n",
              "      <td>0</td>\n",
              "      <td>0</td>\n",
              "      <td>0</td>\n",
              "      <td>0</td>\n",
              "      <td>0</td>\n",
              "      <td>NaN</td>\n",
              "    </tr>\n",
              "    <tr>\n",
              "      <th>2</th>\n",
              "      <td>1241</td>\n",
              "      <td>0.08859</td>\n",
              "      <td>0.08859</td>\n",
              "      <td>0.0</td>\n",
              "      <td>18.64345</td>\n",
              "      <td>0.10605</td>\n",
              "      <td>0</td>\n",
              "      <td>0</td>\n",
              "      <td>0</td>\n",
              "      <td>0</td>\n",
              "      <td>0</td>\n",
              "      <td>0</td>\n",
              "      <td>0</td>\n",
              "      <td>0</td>\n",
              "      <td>0</td>\n",
              "      <td>0</td>\n",
              "      <td>0</td>\n",
              "      <td>0</td>\n",
              "      <td>NaN</td>\n",
              "    </tr>\n",
              "    <tr>\n",
              "      <th>3</th>\n",
              "      <td>1371</td>\n",
              "      <td>0.11782</td>\n",
              "      <td>0.11782</td>\n",
              "      <td>0.0</td>\n",
              "      <td>19.19345</td>\n",
              "      <td>0.09910</td>\n",
              "      <td>0</td>\n",
              "      <td>0</td>\n",
              "      <td>0</td>\n",
              "      <td>0</td>\n",
              "      <td>0</td>\n",
              "      <td>0</td>\n",
              "      <td>0</td>\n",
              "      <td>0</td>\n",
              "      <td>0</td>\n",
              "      <td>0</td>\n",
              "      <td>0</td>\n",
              "      <td>0</td>\n",
              "      <td>NaN</td>\n",
              "    </tr>\n",
              "    <tr>\n",
              "      <th>4</th>\n",
              "      <td>1794</td>\n",
              "      <td>0.14055</td>\n",
              "      <td>0.14055</td>\n",
              "      <td>0.0</td>\n",
              "      <td>19.87100</td>\n",
              "      <td>0.11635</td>\n",
              "      <td>0</td>\n",
              "      <td>0</td>\n",
              "      <td>0</td>\n",
              "      <td>0</td>\n",
              "      <td>0</td>\n",
              "      <td>0</td>\n",
              "      <td>0</td>\n",
              "      <td>0</td>\n",
              "      <td>0</td>\n",
              "      <td>0</td>\n",
              "      <td>0</td>\n",
              "      <td>0</td>\n",
              "      <td>NaN</td>\n",
              "    </tr>\n",
              "  </tbody>\n",
              "</table>\n",
              "</div>"
            ],
            "text/plain": [
              "    #name     zcmb     zhel   dz        mb  ...  cov_s_c  set  ra  dec  biascor\n",
              "0  06D2fb  0.12531  0.12531  0.0  19.46840  ...        0    0   0    0      NaN\n",
              "1     744  0.12679  0.12679  0.0  19.54290  ...        0    0   0    0      NaN\n",
              "2    1241  0.08859  0.08859  0.0  18.64345  ...        0    0   0    0      NaN\n",
              "3    1371  0.11782  0.11782  0.0  19.19345  ...        0    0   0    0      NaN\n",
              "4    1794  0.14055  0.14055  0.0  19.87100  ...        0    0   0    0      NaN\n",
              "\n",
              "[5 rows x 19 columns]"
            ]
          },
          "metadata": {
            "tags": []
          },
          "execution_count": 4
        }
      ]
    },
    {
      "cell_type": "code",
      "metadata": {
        "id": "Abo4eXC-y80v",
        "colab": {
          "base_uri": "https://localhost:8080/"
        },
        "outputId": "2cf29c59-6edd-4c38-bded-9a9007b9e3a9"
      },
      "source": [
        "z_sne = np.array(sne_datos['zcmb'])\n",
        "mb_sne = np.array(sne_datos['mb'])\n",
        "dmb_sne = np.array(sne_datos['dmb'])\n",
        "\n",
        "# z_sne = sne_datos['zcmb']\n",
        "# mb_sne = sne_datos['mb']\n",
        "# dmb_sne = sne_datos['dmb']\n",
        "\n",
        "cov_sne_tot = cov_sne + np.diag(sne_datos['dmb'])**2\n",
        "inv_cov_sne = np.linalg.inv(cov_sne_tot)\n",
        "\n",
        "print('zmin, zmax: %.4f, %.4f'%(np.min(z_sne),np.max(z_sne)))"
      ],
      "execution_count": null,
      "outputs": [
        {
          "output_type": "stream",
          "text": [
            "zmin, zmax: 0.0235, 0.1495\n"
          ],
          "name": "stdout"
        }
      ]
    },
    {
      "cell_type": "markdown",
      "metadata": {
        "id": "wkc1bIBGy80z"
      },
      "source": [
        "Asumiendo un prior Gaussiano en $M_B = \\mathcal{N}\\left({\\hat{M}_B,\\sigma_{M}}\\right)$ y dada la forma espcial de la likelihood es posible convertir la posterior en $H_0$ en un prior en $M_B$\n",
        "\n",
        "$$\\hat{H}_0 = \\exp(\\mu_{\\ln} + 0.5\\sigma^2_{\\ln})$$\n",
        "\n",
        "$$\\sigma_H = \\exp(2\\mu_{\\ln} + \\sigma^2_{\\ln})\\left(\\exp \\sigma^2_{\\ln} - 1\\right)$$\n",
        "\n",
        "$$ \\mu_{\\ln} = \\frac{\\ln 10}{5} \\left[ \\hat{M}_B + \\frac{10}{5} \\left( \\sigma^2_M + \\frac{1}{S_0} \\right) - \\frac{S_1}{S_0} \\right]$$\n",
        "\n",
        "$$ \\sigma_{\\ln} =\\frac{\\ln 10}{5} \\sqrt{\\sigma^2_M + \\frac{1}{S_0}}$$\n",
        "\n",
        "Donde $S_0$ y $S_1$ siguen:\n",
        "\n",
        "$$S_0 = V_i C^{-1}_{ij} V_j \\,, \\,\\,\\,\\, S_1= W_i C^{-1}_{ij} V_j$$\n",
        "\n",
        "$$W_i = m_{B,i} - x_B(z_i)\\,,\\,\\,\\, V_i = 1 \\,,\\,\\, x_B(z_i) = 5\\log\\left(cz\\left[1+\\frac{1}{2}(1-q_0)z-\\frac{1}{6}(1-q_0-3q_0^2+j_0)z^2\\right]\\right)$$"
      ]
    },
    {
      "cell_type": "code",
      "metadata": {
        "id": "6iO5qP-ay802"
      },
      "source": [
        "from scipy import constants\n",
        "cc = constants.c/1000."
      ],
      "execution_count": null,
      "outputs": []
    },
    {
      "cell_type": "markdown",
      "metadata": {
        "id": "80iLqZd4Tkkg"
      },
      "source": [
        "Calcula S_0 y S_1"
      ]
    },
    {
      "cell_type": "markdown",
      "metadata": {
        "id": "QIv1CG77TqKz"
      },
      "source": [
        "Usando como posterior $H_0 = \\mathcal{N}({73.5,1.4})$ [Ried et al., 2019](https://arxiv.org/abs/1908.05625) calcula el prior en $M_B$"
      ]
    },
    {
      "cell_type": "code",
      "metadata": {
        "id": "CwP79sYWy81C"
      },
      "source": [
        "H0_ini = 73.5\n",
        "sig_H0_ini = 1.4"
      ],
      "execution_count": null,
      "outputs": []
    },
    {
      "cell_type": "markdown",
      "metadata": {
        "tags": [],
        "id": "mHxbkfLjy81J"
      },
      "source": [
        "## 2.-SH0ES\n",
        "\n",
        "Analisis independiente del modelo a traves de expansion cosmografica ([gr-qc/0411131](https://arxiv.org/abs/gr-qc/0411131)):\n",
        "\n",
        "$$d_L(z) = \\frac{cz}{H_0} \\left\\lbrace 1+\\frac{1}{2}(1-q_0)z-\\frac{1}{6}(1-q_0-3q_0^2+j_0)z^2 + \\mathcal{O}(z^3) \\right\\rbrace$$\n",
        "\n",
        "$$m_B(z) = m_B(z,H_0,q_0,j_0,...)$$\n",
        "\n",
        "Analisis de SH0ES asume $q_0 = -0.55$ y $j_0 = 1.$ (valores obtenidos con $\\Lambda$CDM)"
      ]
    },
    {
      "cell_type": "markdown",
      "metadata": {
        "id": "TbRPvkpjy81M"
      },
      "source": [
        "Define la distancia de luminosidad usando la expansion cosmografica. Realiza un grafico para redshifts $z = [0.,0.15]$ considerando dos casos $\\left\\lbrace q_0 = -0.55, j0 = 1\\right\\rbrace$ y $\\left\\lbrace  q_0 = -0.75, j_0 = 1.2\\right\\rbrace$ ($H_0 = 70$ para ambos casos)"
      ]
    },
    {
      "cell_type": "markdown",
      "metadata": {
        "id": "UZOc1PpKy81Q"
      },
      "source": [
        "Construye $\\chi^2$ para supernovas usando la expansion cosmografica. Calcula el caso de $H_0 = 73$, $q_0 = -0.55$ y $j_0 = 1.$"
      ]
    },
    {
      "cell_type": "markdown",
      "metadata": {
        "id": "Gqoi1Vfxy81V"
      },
      "source": [
        "## 2.a- emcee: Affine Invariant Markov chain Monte Carlo (MCMC) Ensemble sampler \n",
        "[Codigo disponible aqui](https://emcee.readthedocs.io/en/stable/)\n",
        "\n",
        "<center>\n",
        "<img src=\"https://miro.medium.com/max/1838/1*QdYUe-nZYZnOfj_Oqt9CHw.jpeg\">"
      ]
    },
    {
      "cell_type": "code",
      "metadata": {
        "id": "AMLLHU9oy81V",
        "colab": {
          "base_uri": "https://localhost:8080/"
        },
        "outputId": "841e108a-f6bc-4a59-e9f0-6012c33881ca"
      },
      "source": [
        "! pip install emcee\n",
        "import emcee\n",
        "\n",
        "ncaminantes = 32\n",
        "npasos = 50000 # 250000\n",
        "burn_in = 500\n",
        "\n",
        "punto_ini = primer_bf + 1e-3*np.random.randn(ncaminantes, len(primer_bf))"
      ],
      "execution_count": null,
      "outputs": [
        {
          "output_type": "stream",
          "text": [
            "Collecting emcee\n",
            "\u001b[?25l  Downloading https://files.pythonhosted.org/packages/97/f4/00151f5f843088337c6a53edd6cbb2df340f1044d23080c662f95219cc3f/emcee-3.0.2-py2.py3-none-any.whl (41kB)\n",
            "\r\u001b[K     |███████▉                        | 10kB 13.9MB/s eta 0:00:01\r\u001b[K     |███████████████▋                | 20kB 19.4MB/s eta 0:00:01\r\u001b[K     |███████████████████████▌        | 30kB 9.8MB/s eta 0:00:01\r\u001b[K     |███████████████████████████████▎| 40kB 8.5MB/s eta 0:00:01\r\u001b[K     |████████████████████████████████| 51kB 2.7MB/s \n",
            "\u001b[?25hRequirement already satisfied: numpy in /usr/local/lib/python3.7/dist-packages (from emcee) (1.19.5)\n",
            "Installing collected packages: emcee\n",
            "Successfully installed emcee-3.0.2\n"
          ],
          "name": "stdout"
        }
      ]
    },
    {
      "cell_type": "code",
      "metadata": {
        "id": "3iMBLe3Vy81W"
      },
      "source": [
        "sampler_shoes = emcee.EnsembleSampler(ncaminantes, 2, log_likelihood)\n",
        "\n",
        "nuevo_ini = sampler_shoes.run_mcmc(punto_ini, burn_in)\n",
        "sampler_shoes.reset()"
      ],
      "execution_count": null,
      "outputs": []
    },
    {
      "cell_type": "code",
      "metadata": {
        "id": "v_T26iNIy81W",
        "colab": {
          "base_uri": "https://localhost:8080/"
        },
        "outputId": "347821b5-6f5e-4039-a29c-0885735d4890"
      },
      "source": [
        "import time\n",
        "\n",
        "t0 = time.time()\n",
        "\n",
        "sampler_shoes.run_mcmc(nuevo_ini, npasos)\n",
        "\n",
        "t1 = time.time()\n",
        "(t1-t0)/60"
      ],
      "execution_count": null,
      "outputs": [
        {
          "output_type": "execute_result",
          "data": {
            "text/plain": [
              "3.6458767215410868"
            ]
          },
          "metadata": {
            "tags": []
          },
          "execution_count": 46
        }
      ]
    },
    {
      "cell_type": "code",
      "metadata": {
        "id": "C_H5RfGoy81X"
      },
      "source": [
        "samples_shoes = sampler_shoes.get_chain(flat=True,thin=5)\n",
        "loglikes_shoes = sampler_shoes.get_log_prob(flat=True,thin=5)"
      ],
      "execution_count": null,
      "outputs": []
    },
    {
      "cell_type": "markdown",
      "metadata": {
        "id": "TVugBzvay81Y"
      },
      "source": [
        "## 2.b- GetDist: Python package for analysing and plotting MonteCarlo samples\n",
        "[Codigo disponible aqui](https://getdist.readthedocs.io/en/latest/)\n",
        "\n",
        "<center>\n",
        "<img src=\"https://www.leansixsigmadefinition.com/wp-content/uploads/2019/10/six_sigma_definition_standard_deviations.jpg\">"
      ]
    },
    {
      "cell_type": "code",
      "metadata": {
        "id": "h9PcYTUOy81Z",
        "colab": {
          "base_uri": "https://localhost:8080/"
        },
        "outputId": "c6468f93-9843-45ec-cc19-829133971c98"
      },
      "source": [
        "! pip install getdist\n",
        "import getdist\n",
        "from getdist import plots, MCSamples\n",
        "samp_shoes = getdist.mcsamples.MCSamples(samples=samples_shoes, names = ['H0','MB'], labels = ['H_0','M_B'])\n",
        "\n",
        "samp_shoes.updateSettings({'contours': [0.682689492137086, 0.954499736103642,0.997300203936740]})"
      ],
      "execution_count": null,
      "outputs": [
        {
          "output_type": "stream",
          "text": [
            "Collecting getdist\n",
            "\u001b[?25l  Downloading https://files.pythonhosted.org/packages/cd/d2/bc418d7cb1cbf53d9dbb28347310cc270b7147dccc4fc3814b7d4f194e22/GetDist-1.2.1.tar.gz (771kB)\n",
            "\u001b[K     |████████████████████████████████| 778kB 4.7MB/s \n",
            "\u001b[?25hRequirement already satisfied: numpy in /usr/local/lib/python3.7/dist-packages (from getdist) (1.19.5)\n",
            "Requirement already satisfied: matplotlib>=2.2.0 in /usr/local/lib/python3.7/dist-packages (from getdist) (3.2.2)\n",
            "Requirement already satisfied: scipy>=1.0.0 in /usr/local/lib/python3.7/dist-packages (from getdist) (1.4.1)\n",
            "Requirement already satisfied: python-dateutil>=2.1 in /usr/local/lib/python3.7/dist-packages (from matplotlib>=2.2.0->getdist) (2.8.1)\n",
            "Requirement already satisfied: pyparsing!=2.0.4,!=2.1.2,!=2.1.6,>=2.0.1 in /usr/local/lib/python3.7/dist-packages (from matplotlib>=2.2.0->getdist) (2.4.7)\n",
            "Requirement already satisfied: kiwisolver>=1.0.1 in /usr/local/lib/python3.7/dist-packages (from matplotlib>=2.2.0->getdist) (1.3.1)\n",
            "Requirement already satisfied: cycler>=0.10 in /usr/local/lib/python3.7/dist-packages (from matplotlib>=2.2.0->getdist) (0.10.0)\n",
            "Requirement already satisfied: six>=1.5 in /usr/local/lib/python3.7/dist-packages (from python-dateutil>=2.1->matplotlib>=2.2.0->getdist) (1.15.0)\n",
            "Building wheels for collected packages: getdist\n",
            "  Building wheel for getdist (setup.py) ... \u001b[?25l\u001b[?25hdone\n",
            "  Created wheel for getdist: filename=GetDist-1.2.1-cp37-none-any.whl size=220592 sha256=b2378afbb8f92eefee464ca0c581a8822564a930bae92751dd6ccc848f893c58\n",
            "  Stored in directory: /root/.cache/pip/wheels/81/ac/6b/7d305824ccdaa43cfffc4e844c14808dd5725bde9288eaad58\n",
            "Successfully built getdist\n",
            "Installing collected packages: getdist\n",
            "Successfully installed getdist-1.2.1\n",
            "Removed no burn in\n"
          ],
          "name": "stdout"
        }
      ]
    },
    {
      "cell_type": "code",
      "metadata": {
        "id": "gyzDB1Sty81a",
        "colab": {
          "base_uri": "https://localhost:8080/",
          "height": 370
        },
        "outputId": "12f74203-8af1-4381-c738-58d47bdfce90"
      },
      "source": [
        "g = plots.get_subplot_plotter(width_inch=10,)\n",
        "g.settings.legend_fontsize = 24\n",
        "g.settings.axes_fontsize = 24\n",
        "g.settings.axes_labelsize = 24\n",
        "\n",
        "g.plots_1d(samp_shoes,['MB','H0'],nx=2, title_limit=1)"
      ],
      "execution_count": null,
      "outputs": [
        {
          "output_type": "execute_result",
          "data": {
            "text/plain": [
              "(2, 1)"
            ]
          },
          "metadata": {
            "tags": []
          },
          "execution_count": 50
        },
        {
          "output_type": "display_data",
          "data": {
            "image/png": "[encoded data removed]",
            "text/plain": [
              "<Figure size 720x360 with 2 Axes>"
            ]
          },
          "metadata": {
            "tags": [],
            "needs_background": "light"
          }
        }
      ]
    },
    {
      "cell_type": "code",
      "metadata": {
        "id": "ZTYfNB-jy81b",
        "colab": {
          "base_uri": "https://localhost:8080/",
          "height": 683
        },
        "outputId": "43c98e97-0034-4626-9be5-49d2777ff6bb"
      },
      "source": [
        "g = plots.get_single_plotter(width_inch=9,ratio=1.01)\n",
        "g.settings.legend_fontsize = 24\n",
        "g.settings.axes_fontsize = 24\n",
        "g.settings.axes_labelsize = 24\n",
        "\n",
        "g.plot_2d(samp_shoes, 'H0', 'MB', filled=True, colors=['blue'], alphas=[0.7,0.6])"
      ],
      "execution_count": null,
      "outputs": [
        {
          "output_type": "execute_result",
          "data": {
            "text/plain": [
              "((68.18269016407292, 78.77734323664522),\n",
              " (-19.38971090212872, -19.08486608423028))"
            ]
          },
          "metadata": {
            "tags": []
          },
          "execution_count": 51
        },
        {
          "output_type": "display_data",
          "data": {
            "image/png": "[encoded data removed]",
            "text/plain": [
              "<Figure size 648x654.48 with 1 Axes>"
            ]
          },
          "metadata": {
            "tags": [],
            "needs_background": "light"
          }
        }
      ]
    },
    {
      "cell_type": "code",
      "metadata": {
        "id": "yA5-45Dgy81b",
        "colab": {
          "base_uri": "https://localhost:8080/"
        },
        "outputId": "40464317-cb04-40c2-ddef-852ccaf7a8c3"
      },
      "source": [
        "stat = samp_shoes.getMargeStats()\n",
        "print(stat)"
      ],
      "execution_count": null,
      "outputs": [
        {
          "output_type": "stream",
          "text": [
            "Marginalized limits: 0.682689492137086; 0.954499736103642; 0.99730020393674\n",
            "\n",
            "parameter   mean           sddev          lower1         upper1         limit1 lower2         upper2         limit2 lower3         upper3         limit3 \n",
            "H0          7.3495055E+01  1.3918823E+00  7.2101202E+01  7.4894309E+01  two    7.0750890E+01  7.6315795E+01  two    6.9411517E+01  7.7578050E+01  two     H_0\n",
            "MB         -1.9234143E+01  3.9931046E-02 -1.9274121E+01 -1.9194056E+01  two   -1.9313934E+01 -1.9154283E+01  two   -1.9354392E+01 -1.9119178E+01  two     M_B\n",
            "\n"
          ],
          "name": "stdout"
        }
      ]
    },
    {
      "cell_type": "code",
      "metadata": {
        "id": "6wzrhBYKy81c",
        "colab": {
          "base_uri": "https://localhost:8080/",
          "height": 686
        },
        "outputId": "ac5240aa-adb8-4af9-bc15-fe9223d2b6ae"
      },
      "source": [
        "g = plots.get_single_plotter(width_inch=10,ratio=1.01)\n",
        "g.settings.legend_fontsize = 24\n",
        "g.settings.axes_fontsize = 24\n",
        "g.settings.axes_labelsize = 24\n",
        "\n",
        "g.triangle_plot(samp_shoes, ['H0', 'MB'], filled=True, colors=['blue'], alphas=[0.7,0.6],title_limit=1,)"
      ],
      "execution_count": null,
      "outputs": [
        {
          "output_type": "display_data",
          "data": {
            "text/plain": [
              "<Figure size 720x727.2 with 0 Axes>"
            ]
          },
          "metadata": {
            "tags": []
          }
        },
        {
          "output_type": "display_data",
          "data": {
            "image/png": "[encoded data removed]",
            "text/plain": [
              "<Figure size 720x727.2 with 3 Axes>"
            ]
          },
          "metadata": {
            "tags": [],
            "needs_background": "light"
          }
        }
      ]
    },
    {
      "cell_type": "markdown",
      "metadata": {
        "id": "BZxi2lDyy81d"
      },
      "source": [
        "## 3.-H0/q0"
      ]
    },
    {
      "cell_type": "markdown",
      "metadata": {
        "id": "AZXKAu5Cy81d"
      },
      "source": [
        "Nuestro analisis asume $q_0$ libre y $d_L(z)$ hasta $\\mathcal{O}(z^2)$\n",
        "\n",
        "$$d_L(z) = \\frac{cz}{H_0} \\left\\lbrace 1+\\frac{1}{2}(1-q_0)z \\right\\rbrace$$\n",
        "\n"
      ]
    },
    {
      "cell_type": "markdown",
      "metadata": {
        "id": "o2Q2GIjgy81d"
      },
      "source": [
        "Repetir analisis para este caso"
      ]
    },
    {
      "cell_type": "markdown",
      "metadata": {
        "id": "NUjKbxNDy81l"
      },
      "source": [
        "Reproducir Fig.1 de [arXiv:1906.11814](https://arxiv.org/abs/1906.11814)    "
      ]
    },
    {
      "cell_type": "markdown",
      "metadata": {
        "id": "COUnVnsFy81l"
      },
      "source": [
        "Analizar $\\Lambda$CDM con CC y SNe (sesion 1.1) usando emcee y getdsit."
      ]
    }
  ]
}