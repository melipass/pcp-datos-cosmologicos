{
  "nbformat": 4,
  "nbformat_minor": 0,
  "metadata": {
    "kernelspec": {
      "display_name": "Python 3",
      "language": "python",
      "name": "python3"
    },
    "language_info": {
      "codemirror_mode": {
        "name": "ipython",
        "version": 3
      },
      "file_extension": ".py",
      "mimetype": "text/x-python",
      "name": "python",
      "nbconvert_exporter": "python",
      "pygments_lexer": "ipython3",
      "version": "3.9.1"
    },
    "colab": {
      "name": "share_sesion1-2_.ipynb",
      "provenance": [],
      "collapsed_sections": [],
      "include_colab_link": true
    }
  },
  "cells": [
    {
      "cell_type": "markdown",
      "metadata": {
        "id": "view-in-github",
        "colab_type": "text"
      },
      "source": [
        "<a href=\"https://colab.research.google.com/github/melipass/pcp-datos-cosmologicos/blob/main/share_sesion1_2_.ipynb\" target=\"_parent\"><img src=\"https://colab.research.google.com/assets/colab-badge.svg\" alt=\"Open In Colab\"/></a>"
      ]
    },
    {
      "cell_type": "markdown",
      "metadata": {
        "id": "zcgk6d7Ly8z8"
      },
      "source": [
        "<center>\n",
        "<img src=\"https://habrastorage.org/webt/jq/gc/r5/jqgcr5azmatev6zvgufn8xftehy.png\">\n",
        "    \n",
        "\n",
        "    \n",
        "# Análisis de datos cosmológicos y el problema de la constante de Hubble usando Python\n",
        "\n",
        "### Autor: David F. Camarena Torres"
      ]
    },
    {
      "cell_type": "markdown",
      "metadata": {
        "tags": [],
        "id": "iB5HDXTvy80a"
      },
      "source": [
        "# <center> Sesión 1.2 Local determination of the Hubble constant and the deceleration parameter\n",
        "[arXiv:1906.11814](https://arxiv.org/abs/1906.11814)    \n",
        "\n",
        "\n",
        "# Outline\n",
        "1. [Magnitud absoluta de Supernovas](#1.-MB)\n",
        "2. [Analises SH0ES](#2.-SH0ES)\n",
        "3. [Determinacion local de $H_0$ y $q_0$](#3.-H0/q0)"
      ]
    },
    {
      "cell_type": "markdown",
      "metadata": {
        "id": "cRPZbw0Yy80e"
      },
      "source": [
        "<center>\n",
        "<img src=\"https://upload.wikimedia.org/wikipedia/commons/2/23/Cosmic_distance_ladder.jpg\">"
      ]
    },
    {
      "cell_type": "markdown",
      "metadata": {
        "id": "Hgxu-fbJy80g"
      },
      "source": [
        "## 1.-MB\n",
        "\n",
        "Observacion de la curva de luz de supernovas del Tipo Ia permite determinar $m_B$ \n",
        "\n",
        "Necesitan ser calibradras para ofrecer distancias cosmologicas:\n",
        "\n",
        "$$m_B(z) = 5\\log_{10}\\frac{d_L(z)}{\\rm 1 Mpc}+25 + M_B$$"
      ]
    },
    {
      "cell_type": "code",
      "metadata": {
        "id": "8tErSR-ry80j"
      },
      "source": [
        "import matplotlib.pyplot as plt\n",
        "import numpy as np\n",
        "import pandas\n",
        "\n",
        "plt.rcParams['font.size'] = '18'"
      ],
      "execution_count": 1,
      "outputs": []
    },
    {
      "cell_type": "code",
      "metadata": {
        "id": "HI9TrHHIzB7R",
        "colab": {
          "base_uri": "https://localhost:8080/"
        },
        "outputId": "a1f12df1-3cbe-480f-fae3-44062412089a"
      },
      "source": [
        "! pip install gdown\n",
        "import os \n",
        "if not 'datos_sesion1-2.tar.gz' in os.listdir():\n",
        "  ! gdown --id 1Xiw04RSjKvdOjLB7BQxFNVgH54yh5RRp --output datos_sesion1-2.tar.gz\n",
        "  ! tar -xvf datos_sesion1-2.tar.gz"
      ],
      "execution_count": 2,
      "outputs": [
        {
          "output_type": "stream",
          "text": [
            "Requirement already satisfied: gdown in /usr/local/lib/python3.7/dist-packages (3.6.4)\n",
            "Requirement already satisfied: requests in /usr/local/lib/python3.7/dist-packages (from gdown) (2.23.0)\n",
            "Requirement already satisfied: six in /usr/local/lib/python3.7/dist-packages (from gdown) (1.15.0)\n",
            "Requirement already satisfied: tqdm in /usr/local/lib/python3.7/dist-packages (from gdown) (4.41.1)\n",
            "Requirement already satisfied: idna<3,>=2.5 in /usr/local/lib/python3.7/dist-packages (from requests->gdown) (2.10)\n",
            "Requirement already satisfied: chardet<4,>=3.0.2 in /usr/local/lib/python3.7/dist-packages (from requests->gdown) (3.0.4)\n",
            "Requirement already satisfied: urllib3!=1.25.0,!=1.25.1,<1.26,>=1.21.1 in /usr/local/lib/python3.7/dist-packages (from requests->gdown) (1.24.3)\n",
            "Requirement already satisfied: certifi>=2017.4.17 in /usr/local/lib/python3.7/dist-packages (from requests->gdown) (2020.12.5)\n",
            "Downloading...\n",
            "From: https://drive.google.com/uc?id=1Xiw04RSjKvdOjLB7BQxFNVgH54yh5RRp\n",
            "To: /content/datos_sesion1-2.tar.gz\n",
            "100% 172k/172k [00:00<00:00, 5.24MB/s]\n",
            "datos_sesion1-2/\n",
            "datos_sesion1-2/Pantheon-low/\n",
            "datos_sesion1-2/Pantheon-low/cov_low-sne.dat\n",
            "datos_sesion1-2/Pantheon-low/low-sne.txt\n"
          ],
          "name": "stdout"
        }
      ]
    },
    {
      "cell_type": "code",
      "metadata": {
        "colab": {
          "base_uri": "https://localhost:8080/",
          "height": 226
        },
        "id": "mnwv3l8Ry80o",
        "outputId": "27d5244c-046c-4301-828c-cb3774481ce5"
      },
      "source": [
        "sne_datos = pandas.read_table('datos_sesion1-2/Pantheon-low/low-sne.txt',sep='\\t')\n",
        "\n",
        "cov_sne = pandas.read_table('datos_sesion1-2/Pantheon-low/cov_low-sne.dat')\n",
        "cov_sne = np.array(cov_sne).reshape((237, 237))\n",
        "\n",
        "sne_datos.head()"
      ],
      "execution_count": 3,
      "outputs": [
        {
          "output_type": "execute_result",
          "data": {
            "text/html": [
              "<div>\n",
              "<style scoped>\n",
              "    .dataframe tbody tr th:only-of-type {\n",
              "        vertical-align: middle;\n",
              "    }\n",
              "\n",
              "    .dataframe tbody tr th {\n",
              "        vertical-align: top;\n",
              "    }\n",
              "\n",
              "    .dataframe thead th {\n",
              "        text-align: right;\n",
              "    }\n",
              "</style>\n",
              "<table border=\"1\" class=\"dataframe\">\n",
              "  <thead>\n",
              "    <tr style=\"text-align: right;\">\n",
              "      <th></th>\n",
              "      <th>#name</th>\n",
              "      <th>zcmb</th>\n",
              "      <th>zhel</th>\n",
              "      <th>dz</th>\n",
              "      <th>mb</th>\n",
              "      <th>dmb</th>\n",
              "      <th>x1</th>\n",
              "      <th>dx1</th>\n",
              "      <th>color</th>\n",
              "      <th>dcolor</th>\n",
              "      <th>3rdvar</th>\n",
              "      <th>d3rdvar</th>\n",
              "      <th>cov_m_s</th>\n",
              "      <th>cov_m_c</th>\n",
              "      <th>cov_s_c</th>\n",
              "      <th>set</th>\n",
              "      <th>ra</th>\n",
              "      <th>dec</th>\n",
              "      <th>biascor</th>\n",
              "    </tr>\n",
              "  </thead>\n",
              "  <tbody>\n",
              "    <tr>\n",
              "      <th>0</th>\n",
              "      <td>06D2fb</td>\n",
              "      <td>0.12531</td>\n",
              "      <td>0.12531</td>\n",
              "      <td>0.0</td>\n",
              "      <td>19.46840</td>\n",
              "      <td>0.10355</td>\n",
              "      <td>0</td>\n",
              "      <td>0</td>\n",
              "      <td>0</td>\n",
              "      <td>0</td>\n",
              "      <td>0</td>\n",
              "      <td>0</td>\n",
              "      <td>0</td>\n",
              "      <td>0</td>\n",
              "      <td>0</td>\n",
              "      <td>0</td>\n",
              "      <td>0</td>\n",
              "      <td>0</td>\n",
              "      <td>NaN</td>\n",
              "    </tr>\n",
              "    <tr>\n",
              "      <th>1</th>\n",
              "      <td>744</td>\n",
              "      <td>0.12679</td>\n",
              "      <td>0.12679</td>\n",
              "      <td>0.0</td>\n",
              "      <td>19.54290</td>\n",
              "      <td>0.11965</td>\n",
              "      <td>0</td>\n",
              "      <td>0</td>\n",
              "      <td>0</td>\n",
              "      <td>0</td>\n",
              "      <td>0</td>\n",
              "      <td>0</td>\n",
              "      <td>0</td>\n",
              "      <td>0</td>\n",
              "      <td>0</td>\n",
              "      <td>0</td>\n",
              "      <td>0</td>\n",
              "      <td>0</td>\n",
              "      <td>NaN</td>\n",
              "    </tr>\n",
              "    <tr>\n",
              "      <th>2</th>\n",
              "      <td>1241</td>\n",
              "      <td>0.08859</td>\n",
              "      <td>0.08859</td>\n",
              "      <td>0.0</td>\n",
              "      <td>18.64345</td>\n",
              "      <td>0.10605</td>\n",
              "      <td>0</td>\n",
              "      <td>0</td>\n",
              "      <td>0</td>\n",
              "      <td>0</td>\n",
              "      <td>0</td>\n",
              "      <td>0</td>\n",
              "      <td>0</td>\n",
              "      <td>0</td>\n",
              "      <td>0</td>\n",
              "      <td>0</td>\n",
              "      <td>0</td>\n",
              "      <td>0</td>\n",
              "      <td>NaN</td>\n",
              "    </tr>\n",
              "    <tr>\n",
              "      <th>3</th>\n",
              "      <td>1371</td>\n",
              "      <td>0.11782</td>\n",
              "      <td>0.11782</td>\n",
              "      <td>0.0</td>\n",
              "      <td>19.19345</td>\n",
              "      <td>0.09910</td>\n",
              "      <td>0</td>\n",
              "      <td>0</td>\n",
              "      <td>0</td>\n",
              "      <td>0</td>\n",
              "      <td>0</td>\n",
              "      <td>0</td>\n",
              "      <td>0</td>\n",
              "      <td>0</td>\n",
              "      <td>0</td>\n",
              "      <td>0</td>\n",
              "      <td>0</td>\n",
              "      <td>0</td>\n",
              "      <td>NaN</td>\n",
              "    </tr>\n",
              "    <tr>\n",
              "      <th>4</th>\n",
              "      <td>1794</td>\n",
              "      <td>0.14055</td>\n",
              "      <td>0.14055</td>\n",
              "      <td>0.0</td>\n",
              "      <td>19.87100</td>\n",
              "      <td>0.11635</td>\n",
              "      <td>0</td>\n",
              "      <td>0</td>\n",
              "      <td>0</td>\n",
              "      <td>0</td>\n",
              "      <td>0</td>\n",
              "      <td>0</td>\n",
              "      <td>0</td>\n",
              "      <td>0</td>\n",
              "      <td>0</td>\n",
              "      <td>0</td>\n",
              "      <td>0</td>\n",
              "      <td>0</td>\n",
              "      <td>NaN</td>\n",
              "    </tr>\n",
              "  </tbody>\n",
              "</table>\n",
              "</div>"
            ],
            "text/plain": [
              "    #name     zcmb     zhel   dz        mb  ...  cov_s_c  set  ra  dec  biascor\n",
              "0  06D2fb  0.12531  0.12531  0.0  19.46840  ...        0    0   0    0      NaN\n",
              "1     744  0.12679  0.12679  0.0  19.54290  ...        0    0   0    0      NaN\n",
              "2    1241  0.08859  0.08859  0.0  18.64345  ...        0    0   0    0      NaN\n",
              "3    1371  0.11782  0.11782  0.0  19.19345  ...        0    0   0    0      NaN\n",
              "4    1794  0.14055  0.14055  0.0  19.87100  ...        0    0   0    0      NaN\n",
              "\n",
              "[5 rows x 19 columns]"
            ]
          },
          "metadata": {
            "tags": []
          },
          "execution_count": 3
        }
      ]
    },
    {
      "cell_type": "code",
      "metadata": {
        "id": "Abo4eXC-y80v",
        "colab": {
          "base_uri": "https://localhost:8080/"
        },
        "outputId": "0f57ea3d-4762-4ee5-cdfb-237d3ab1ad77"
      },
      "source": [
        "z_sne = np.array(sne_datos['zcmb'])\n",
        "mb_sne = np.array(sne_datos['mb'])\n",
        "dmb_sne = np.array(sne_datos['dmb'])\n",
        "\n",
        "# z_sne = sne_datos['zcmb']\n",
        "# mb_sne = sne_datos['mb']\n",
        "# dmb_sne = sne_datos['dmb']\n",
        "\n",
        "cov_sne_tot = cov_sne + np.diag(sne_datos['dmb'])**2\n",
        "inv_cov_sne = np.linalg.inv(cov_sne_tot)\n",
        "\n",
        "print('zmin, zmax: %.4f, %.4f'%(np.min(z_sne),np.max(z_sne)))"
      ],
      "execution_count": 4,
      "outputs": [
        {
          "output_type": "stream",
          "text": [
            "zmin, zmax: 0.0235, 0.1495\n"
          ],
          "name": "stdout"
        }
      ]
    },
    {
      "cell_type": "markdown",
      "metadata": {
        "id": "wkc1bIBGy80z"
      },
      "source": [
        "Asumiendo un prior Gaussiano en $M_B = \\mathcal{N}\\left({\\hat{M}_B,\\sigma_{M}}\\right)$ y dada la forma espcial de la likelihood es posible convertir la posterior en $H_0$ en un prior en $M_B$\n",
        "\n",
        "$$\\hat{H}_0 = \\exp(\\mu_{\\ln} + 0.5\\sigma^2_{\\ln})$$\n",
        "\n",
        "$$\\sigma_H = \\exp(2\\mu_{\\ln} + \\sigma^2_{\\ln})\\left(\\exp \\sigma^2_{\\ln} - 1\\right)$$\n",
        "\n",
        "$$ \\mu_{\\ln} = \\frac{\\ln 10}{5} \\left[ \\hat{M}_B + \\frac{\\ln(10)}{5} \\left( \\sigma^2_M + \\frac{1}{S_0} \\right) - \\frac{S_1}{S_0} \\right]$$\n",
        "\n",
        "$$ \\sigma_{\\ln} =\\frac{\\ln 10}{5} \\sqrt{\\sigma^2_M + \\frac{1}{S_0}}$$\n",
        "\n",
        "Donde $S_0$ y $S_1$ siguen:\n",
        "\n",
        "$$S_0 = V_i C^{-1}_{ij} V_j \\,, \\,\\,\\,\\, S_1= W_i C^{-1}_{ij} V_j$$\n",
        "\n",
        "$$W_i = m_{B,i} - x_B(z_i)\\,,\\,\\,\\, V_i = 1 \\,,\\,\\, x_B(z_i) = 5\\log_{10}\\left(cz\\left[1+\\frac{1}{2}(1-q_0)z-\\frac{1}{6}(1-q_0-3q_0^2+j_0)z^2\\right]\\right)+25$$\n",
        "\n",
        "Nota: $S_1$ y $S_0$ están relacionados al catálogo de supernovas que estamos usando."
      ]
    },
    {
      "cell_type": "code",
      "metadata": {
        "id": "6iO5qP-ay802"
      },
      "source": [
        "from scipy import constants\n",
        "cc = constants.c/1000."
      ],
      "execution_count": 5,
      "outputs": []
    },
    {
      "cell_type": "markdown",
      "metadata": {
        "id": "80iLqZd4Tkkg"
      },
      "source": [
        "Calcula $S_0$ y $S_1$"
      ]
    },
    {
      "cell_type": "code",
      "metadata": {
        "id": "6MH2z2XVJta9"
      },
      "source": [
        "def mBtilde(z):\n",
        "  q0 = -0.55\n",
        "  j0 = 1.\n",
        "  term1 = 0.5*(1-q0)*z\n",
        "  term2 = -(1 - q0 - 3*q0**2 * j0)*z**2/6.\n",
        "  mBt = 5*np.log10(cc*z*(1+term1+term2))+25\n",
        "  return mBt"
      ],
      "execution_count": 13,
      "outputs": []
    },
    {
      "cell_type": "code",
      "metadata": {
        "colab": {
          "base_uri": "https://localhost:8080/"
        },
        "id": "CEoUgzdrLRXH",
        "outputId": "dfe441a9-2039-4850-e141-3d8094c8a5bf"
      },
      "source": [
        "V_i = np.ones(len(inv_cov_sne))\n",
        "S0 = np.dot(np.dot(V_i, inv_cov_sne),V_i)\n",
        "W_i = mb_sne - mBtilde(z_sne)\n",
        "# W_i es la diferencia entre la magnitud absoluta\n",
        "# observada de supernovas menos la función definida arriba\n",
        "S1 = np.dot(np.dot(W_i, inv_cov_sne),V_i)\n",
        "print(S0,S1)"
      ],
      "execution_count": 14,
      "outputs": [
        {
          "output_type": "stream",
          "text": [
            "10689.40997018274 -305377.72832762933\n"
          ],
          "name": "stdout"
        }
      ]
    },
    {
      "cell_type": "markdown",
      "metadata": {
        "id": "QIv1CG77TqKz"
      },
      "source": [
        "Usando como posterior $H_0 = \\mathcal{N}({73.5,1.4})$ [Ried et al., 2019](https://arxiv.org/abs/1908.05625) calcula el prior en $M_B$"
      ]
    },
    {
      "cell_type": "code",
      "metadata": {
        "id": "CwP79sYWy81C"
      },
      "source": [
        "H0_ini = 73.5 # asumimos este valor como media\n",
        "sig_H0_ini = 1.4 # desviación estándar"
      ],
      "execution_count": 15,
      "outputs": []
    },
    {
      "cell_type": "code",
      "metadata": {
        "id": "nAl7Bc0GMgoy"
      },
      "source": [
        "def mu_lnH(MB_p, sigma_M_p):\n",
        "    mu = 0.2*np.log(10)*(MB_p - S1/S0 + (1/S0 + sigma_M_p**2)*0.2*np.log(10))\n",
        "    return mu"
      ],
      "execution_count": 30,
      "outputs": []
    },
    {
      "cell_type": "code",
      "metadata": {
        "id": "qy-Sds-PNJwl"
      },
      "source": [
        "def sigma_lnH(MB_p,sigMB_p):\n",
        "  sig = np.log(10)/5 * np.sqrt(sigMB_p**2+1./S0)\n",
        "  return sig"
      ],
      "execution_count": 31,
      "outputs": []
    },
    {
      "cell_type": "code",
      "metadata": {
        "id": "hTrWeqPmNYW9"
      },
      "source": [
        "def media_H(MB_p, sigma_M_p):\n",
        "    mean = np.exp(mu_lnH(MB_p, sigma_M_p) + 0.5*sigma_lnH(MB_p, sigma_M_p)**2)\n",
        "    return mean\n",
        "\n",
        "def varia_H(MB_p, sigma_M_p):\n",
        "    var = np.exp(2*mu_lnH(MB_p, sigma_M_p)+sigma_lnH(MB_p, sigma_M_p)**2)*(-1+np.exp(sigma_lnH(MB_p, sigma_M_p)**2))\n",
        "    return var"
      ],
      "execution_count": 32,
      "outputs": []
    },
    {
      "cell_type": "code",
      "metadata": {
        "id": "Ks-zoZLvNljC"
      },
      "source": [
        "def sol_MB_prior(vec):\n",
        "  MB_p, sigM_p = vec\n",
        "  ecua1 = media_H(MB_p, sigM_p) - H0_ini\n",
        "  ecua2 = varia_H(MB_p, sigM_p) - sig_H0_ini**2 # como se trata de la varianza, tiene que ser al cuadrado\n",
        "  return [ecua1, ecua2]"
      ],
      "execution_count": 33,
      "outputs": []
    },
    {
      "cell_type": "code",
      "metadata": {
        "id": "CKvhnxtXOGGB"
      },
      "source": [
        "from scipy import optimize\n",
        "MB_fin, sigma_MB_fin = optimize.fsolve(sol_MB_prior,[-19,0.04])"
      ],
      "execution_count": 34,
      "outputs": []
    },
    {
      "cell_type": "code",
      "metadata": {
        "colab": {
          "base_uri": "https://localhost:8080/"
        },
        "id": "30JHNsQrOPY2",
        "outputId": "71b6c616-3a56-4b81-bf6f-9a55501fc936"
      },
      "source": [
        "print(MB_fin,sigma_MB_fin)"
      ],
      "execution_count": 35,
      "outputs": [
        {
          "output_type": "stream",
          "text": [
            "-19.237994090579587 0.0402107310462513\n"
          ],
          "name": "stdout"
        }
      ]
    },
    {
      "cell_type": "markdown",
      "metadata": {
        "id": "ReQ2lPM8OnbV"
      },
      "source": [
        "$$p(M_B) = \\mathcal{N} (-19.234,0.0402)$$"
      ]
    },
    {
      "cell_type": "markdown",
      "metadata": {
        "tags": [],
        "id": "mHxbkfLjy81J"
      },
      "source": [
        "## 2.-SH0ES\n",
        "\n",
        "Analisis independiente del modelo a traves de expansion cosmografica ([gr-qc/0411131](https://arxiv.org/abs/gr-qc/0411131)):\n",
        "\n",
        "$$d_L(z) = \\frac{cz}{H_0} \\left\\lbrace 1+\\frac{1}{2}(1-q_0)z-\\frac{1}{6}(1-q_0-3q_0^2+j_0)z^2 + \\mathcal{O}(z^3) \\right\\rbrace$$\n",
        "\n",
        "$$m_B(z) = m_B(z,H_0,q_0,j_0,...)$$\n",
        "\n",
        "Analisis de SH0ES asume $q_0 = -0.55$ y $j_0 = 1.$ (valores obtenidos con $\\Lambda$CDM)"
      ]
    },
    {
      "cell_type": "code",
      "metadata": {
        "id": "Uw6T3EpPPjG7"
      },
      "source": [
        "def cosmografia_dL(z, H0, q0, j0=None):\n",
        "  term1 = 0.5*(1.-q0)*z\n",
        "  if j0 == None:\n",
        "    term2 = 0.\n",
        "  else:\n",
        "    term2 = -(1.0 - q0-3*q0**2+j0)*z**2/6.\n",
        "  dL = cc*z*(1+term1+term2)/H0 # cc es la velocidad de la luz en el vacio, z el redshift\n",
        "  return dL"
      ],
      "execution_count": 98,
      "outputs": []
    },
    {
      "cell_type": "code",
      "metadata": {
        "colab": {
          "base_uri": "https://localhost:8080/"
        },
        "id": "pJChS8OtQMiV",
        "outputId": "83c2af2c-4317-48b8-fb68-7af08cc9e8d2"
      },
      "source": [
        "cosmografia_dL(z=0.5, H0=70, q0=-0.5, j0=1.0) # probando la función"
      ],
      "execution_count": 40,
      "outputs": [
        {
          "output_type": "execute_result",
          "data": {
            "text/plain": [
              "2788.2483072916666"
            ]
          },
          "metadata": {
            "tags": []
          },
          "execution_count": 40
        }
      ]
    },
    {
      "cell_type": "code",
      "metadata": {
        "id": "YfgAg4XPQfXl"
      },
      "source": [
        "def cosmografia_mB_sh0es(vec):\n",
        "  H0, MB = vec\n",
        "  # usaremos los valores dados\n",
        "  q0 = -0.55\n",
        "  j0 = 1.0\n",
        "  # vamos a observar el redshift de supernovas, por lo tanto usaremos z_sne\n",
        "  cosmom = 5*np.log10(cosmografia_dL(z_sne,H0,q0,j0)) + 25 + MB\n",
        "  return cosmom"
      ],
      "execution_count": 42,
      "outputs": []
    },
    {
      "cell_type": "code",
      "metadata": {
        "id": "0p2udTRQRhWf"
      },
      "source": [
        ""
      ],
      "execution_count": null,
      "outputs": []
    },
    {
      "cell_type": "markdown",
      "metadata": {
        "id": "TbRPvkpjy81M"
      },
      "source": [
        "Define la distancia de luminosidad usando la expansion cosmografica. Realiza un grafico para redshifts $z = [0.,0.15]$ considerando dos casos $\\left\\lbrace q_0 = -0.55, j0 = 1\\right\\rbrace$ y $\\left\\lbrace  q_0 = -0.75, j_0 = 1.2\\right\\rbrace$ ($H_0 = 70$ para ambos casos)"
      ]
    },
    {
      "cell_type": "code",
      "metadata": {
        "colab": {
          "base_uri": "https://localhost:8080/",
          "height": 515
        },
        "id": "LhGK9B8PQZ-R",
        "outputId": "de8a6fbc-6650-44b1-b97a-20934c666884"
      },
      "source": [
        "fig, ax = plt.subplots(1,1,figsize=(10,8))\n",
        "\n",
        "ax.plot(z_sne,cosmografia_mB_sh0es([70.,-19.5]),'.')\n",
        "ax.errorbar(z_sne,mb_sne,dmb_sne,ls=' ')\n",
        "\n",
        "ax.set_xlabel(r'$z$')\n",
        "ax.set_ylabel(r'$m_B(z)$')"
      ],
      "execution_count": 43,
      "outputs": [
        {
          "output_type": "execute_result",
          "data": {
            "text/plain": [
              "Text(0, 0.5, '$m_B(z)$')"
            ]
          },
          "metadata": {
            "tags": []
          },
          "execution_count": 43
        },
        {
          "output_type": "display_data",
          "data": {
            "image/png": "[encoded data removed]",
            "text/plain": [
              "<Figure size 720x576 with 1 Axes>"
            ]
          },
          "metadata": {
            "tags": [],
            "needs_background": "light"
          }
        }
      ]
    },
    {
      "cell_type": "markdown",
      "metadata": {
        "id": "UZOc1PpKy81Q"
      },
      "source": [
        "Construye $\\chi^2$ para supernovas usando la expansion cosmografica. Calcula el caso de $H_0 = 73$, $q_0 = -0.55$ y $j_0 = 1.$"
      ]
    },
    {
      "cell_type": "code",
      "metadata": {
        "id": "2zEmEpyfSJnp"
      },
      "source": [
        "def chi2_sn(theta_vec):\n",
        "  mB_theo = cosmografia_mB_sh0es(theta_vec)\n",
        "  diff = mb_sne - mB_theo\n",
        "  chi2sn = np.dot(np.dot(diff,inv_cov_sne),diff)\n",
        "  return chi2sn\n",
        "\n",
        "log_lkl_sn = lambda theta_vec: -0.5*chi2_sn(theta_vec)"
      ],
      "execution_count": 45,
      "outputs": []
    },
    {
      "cell_type": "code",
      "metadata": {
        "colab": {
          "base_uri": "https://localhost:8080/"
        },
        "id": "WQvylR-OSYKu",
        "outputId": "c4e1aa99-05a4-4b1e-e8ec-7ca8e14dfff2"
      },
      "source": [
        "chi2_sn([70.,-19])"
      ],
      "execution_count": 46,
      "outputs": [
        {
          "output_type": "execute_result",
          "data": {
            "text/plain": [
              "1467.0664941247"
            ]
          },
          "metadata": {
            "tags": []
          },
          "execution_count": 46
        }
      ]
    },
    {
      "cell_type": "code",
      "metadata": {
        "id": "F9jKbfXnSkrz"
      },
      "source": [
        "def log_prior_MB(theta_vec):\n",
        "  H0, MB = theta_vec\n",
        "  logpM = -0.5*(MB-MB_fin)**2/sigma_MB_fin**2\n",
        "  return logpM"
      ],
      "execution_count": 47,
      "outputs": []
    },
    {
      "cell_type": "code",
      "metadata": {
        "id": "pZ3sNMVXTLL6"
      },
      "source": [
        "H0max = 78\n",
        "H0min = 64\n",
        "MBmin = -19.7\n",
        "MBmax = -18.8\n",
        "\n",
        "def log_flat_prior(theta_vec):\n",
        "  H0, MB = theta_vec\n",
        "  if not (H0min <= H0 <= H0max):\n",
        "    return -np.inf\n",
        "  elif not (MBmin <= MB <= MBmax):\n",
        "    return -np.inf\n",
        "  else:\n",
        "    return 0.0\n",
        "\n",
        "def log_likelihood(theta_vec):\n",
        "  H0,MB = theta_vec\n",
        "  loglikelihood = log_lkl_sn(theta_vec) + log_flat_prior(theta_vec) + log_prior_MB(theta_vec)\n",
        "  return loglikelihood"
      ],
      "execution_count": 50,
      "outputs": []
    },
    {
      "cell_type": "code",
      "metadata": {
        "colab": {
          "base_uri": "https://localhost:8080/"
        },
        "id": "7Jlhg9rgUOv4",
        "outputId": "69d7f0a6-1284-424e-8f17-2fb1d73e04e5"
      },
      "source": [
        "log_likelihood([H0min-1e-12, MBmin-1e-12]),log_likelihood([H0max+1e-12,MBmax+1e-12])"
      ],
      "execution_count": 51,
      "outputs": [
        {
          "output_type": "execute_result",
          "data": {
            "text/plain": [
              "(-inf, -inf)"
            ]
          },
          "metadata": {
            "tags": []
          },
          "execution_count": 51
        }
      ]
    },
    {
      "cell_type": "code",
      "metadata": {
        "colab": {
          "base_uri": "https://localhost:8080/"
        },
        "id": "biC2Un8RUc7l",
        "outputId": "e0e050d7-b9b2-4519-efc0-a3782b6486a2"
      },
      "source": [
        "primer_bf = np.array([73.5,-19.4])\n",
        "%timeit log_likelihood(primer_bf)"
      ],
      "execution_count": 53,
      "outputs": [
        {
          "output_type": "stream",
          "text": [
            "The slowest run took 37.87 times longer than the fastest. This could mean that an intermediate result is being cached.\n",
            "10000 loops, best of 5: 76.3 µs per loop\n"
          ],
          "name": "stdout"
        }
      ]
    },
    {
      "cell_type": "code",
      "metadata": {
        "colab": {
          "base_uri": "https://localhost:8080/"
        },
        "id": "U4zfzaHhUqBc",
        "outputId": "4f1275b8-5c01-4c67-a9c5-6e2ad561d82b"
      },
      "source": [
        "%timeit chi2_sn(primer_bf)"
      ],
      "execution_count": 54,
      "outputs": [
        {
          "output_type": "stream",
          "text": [
            "The slowest run took 19.14 times longer than the fastest. This could mean that an intermediate result is being cached.\n",
            "10000 loops, best of 5: 63.8 µs per loop\n"
          ],
          "name": "stdout"
        }
      ]
    },
    {
      "cell_type": "markdown",
      "metadata": {
        "id": "Gqoi1Vfxy81V"
      },
      "source": [
        "## 2.a- emcee: Affine Invariant Markov chain Monte Carlo (MCMC) Ensemble sampler \n",
        "[Codigo disponible aqui](https://emcee.readthedocs.io/en/stable/)\n",
        "\n",
        "<center>\n",
        "<img src=\"https://miro.medium.com/max/1838/1*QdYUe-nZYZnOfj_Oqt9CHw.jpeg\">"
      ]
    },
    {
      "cell_type": "code",
      "metadata": {
        "id": "AMLLHU9oy81V",
        "colab": {
          "base_uri": "https://localhost:8080/"
        },
        "outputId": "a77fdda4-3e3a-44eb-9c15-336a9ed1d5cc"
      },
      "source": [
        "! pip install emcee\n",
        "import emcee\n",
        "\n",
        "ncaminantes = 32\n",
        "npasos = 50000 # 250000\n",
        "burn_in = 500 #burn_in son los posibles puntos, y vamos a comenzar con un punto aleatorio\n",
        "\n",
        "punto_ini = primer_bf + 1e-3*np.random.randn(ncaminantes, len(primer_bf))"
      ],
      "execution_count": 55,
      "outputs": [
        {
          "output_type": "stream",
          "text": [
            "Collecting emcee\n",
            "\u001b[?25l  Downloading https://files.pythonhosted.org/packages/97/f4/00151f5f843088337c6a53edd6cbb2df340f1044d23080c662f95219cc3f/emcee-3.0.2-py2.py3-none-any.whl (41kB)\n",
            "\r\u001b[K     |███████▉                        | 10kB 16.5MB/s eta 0:00:01\r\u001b[K     |███████████████▋                | 20kB 22.8MB/s eta 0:00:01\r\u001b[K     |███████████████████████▌        | 30kB 28.1MB/s eta 0:00:01\r\u001b[K     |███████████████████████████████▎| 40kB 31.1MB/s eta 0:00:01\r\u001b[K     |████████████████████████████████| 51kB 6.6MB/s \n",
            "\u001b[?25hRequirement already satisfied: numpy in /usr/local/lib/python3.7/dist-packages (from emcee) (1.19.5)\n",
            "Installing collected packages: emcee\n",
            "Successfully installed emcee-3.0.2\n"
          ],
          "name": "stdout"
        }
      ]
    },
    {
      "cell_type": "code",
      "metadata": {
        "colab": {
          "base_uri": "https://localhost:8080/"
        },
        "id": "4G2JAaQLVJCz",
        "outputId": "6b8a2469-9817-42f3-d82f-eabd77d8527d"
      },
      "source": [
        "punto_ini # estos son los puntos de partida, muy próximos al best fit"
      ],
      "execution_count": 57,
      "outputs": [
        {
          "output_type": "execute_result",
          "data": {
            "text/plain": [
              "array([[ 73.49940616, -19.4002484 ],\n",
              "       [ 73.49971302, -19.39997472],\n",
              "       [ 73.50123362, -19.39872076],\n",
              "       [ 73.49641528, -19.39976233],\n",
              "       [ 73.49907805, -19.40055287],\n",
              "       [ 73.49965763, -19.40134877],\n",
              "       [ 73.49971245, -19.39916168],\n",
              "       [ 73.49993171, -19.4007383 ],\n",
              "       [ 73.50078356, -19.40042634],\n",
              "       [ 73.50129338, -19.40015936],\n",
              "       [ 73.50042978, -19.39808286],\n",
              "       [ 73.49866863, -19.40055598],\n",
              "       [ 73.49995407, -19.40030712],\n",
              "       [ 73.4997396 , -19.39987934],\n",
              "       [ 73.49979579, -19.39852249],\n",
              "       [ 73.49980647, -19.40059972],\n",
              "       [ 73.50074547, -19.40179794],\n",
              "       [ 73.50094041, -19.40177531],\n",
              "       [ 73.50090904, -19.39933935],\n",
              "       [ 73.49852213, -19.4001222 ],\n",
              "       [ 73.4980445 , -19.39763576],\n",
              "       [ 73.50078624, -19.40060502],\n",
              "       [ 73.49995615, -19.39926054],\n",
              "       [ 73.49914619, -19.4017326 ],\n",
              "       [ 73.5003603 , -19.40322541],\n",
              "       [ 73.50005001, -19.39918262],\n",
              "       [ 73.49939853, -19.39977573],\n",
              "       [ 73.50103559, -19.39996395],\n",
              "       [ 73.49992567, -19.39872403],\n",
              "       [ 73.50047253, -19.39785859],\n",
              "       [ 73.49946267, -19.39951591],\n",
              "       [ 73.49867296, -19.40001397]])"
            ]
          },
          "metadata": {
            "tags": []
          },
          "execution_count": 57
        }
      ]
    },
    {
      "cell_type": "code",
      "metadata": {
        "id": "3iMBLe3Vy81W"
      },
      "source": [
        "sampler_shoes = emcee.EnsembleSampler(ncaminantes, 2, log_likelihood) # 2 parámetros libres\n",
        "\n",
        "nuevo_ini = sampler_shoes.run_mcmc(punto_ini, burn_in)\n",
        "sampler_shoes.reset()"
      ],
      "execution_count": 58,
      "outputs": []
    },
    {
      "cell_type": "code",
      "metadata": {
        "colab": {
          "base_uri": "https://localhost:8080/"
        },
        "id": "Aa-hr_ZeVgd_",
        "outputId": "211b5263-aa9c-4832-b5e8-1d35fccf14c6"
      },
      "source": [
        "nuevo_ini.coords #será nuestro nuevo punto de partida para nuestros caminantes\n",
        "# los valores iniciales están más cerca del resultado final"
      ],
      "execution_count": 61,
      "outputs": [
        {
          "output_type": "execute_result",
          "data": {
            "text/plain": [
              "array([[ 73.01779389, -19.25631011],\n",
              "       [ 74.9899794 , -19.1929171 ],\n",
              "       [ 73.0279063 , -19.24224505],\n",
              "       [ 71.13455475, -19.30458887],\n",
              "       [ 71.884531  , -19.25429247],\n",
              "       [ 73.28330461, -19.23961116],\n",
              "       [ 72.78563519, -19.26422061],\n",
              "       [ 73.42882903, -19.23223287],\n",
              "       [ 72.20420494, -19.27230418],\n",
              "       [ 71.26187047, -19.30237093],\n",
              "       [ 76.10571736, -19.14601422],\n",
              "       [ 74.42588052, -19.20415009],\n",
              "       [ 76.76767237, -19.14575266],\n",
              "       [ 73.33683639, -19.24235075],\n",
              "       [ 72.76168403, -19.25153529],\n",
              "       [ 75.46430307, -19.16213343],\n",
              "       [ 69.7119394 , -19.34854265],\n",
              "       [ 73.8127519 , -19.23149083],\n",
              "       [ 75.26175843, -19.19196801],\n",
              "       [ 72.56769844, -19.25292379],\n",
              "       [ 74.6471936 , -19.19964081],\n",
              "       [ 73.99103841, -19.21375993],\n",
              "       [ 75.23800116, -19.1799125 ],\n",
              "       [ 70.43295911, -19.32166304],\n",
              "       [ 73.29639832, -19.23097198],\n",
              "       [ 75.52753097, -19.17027721],\n",
              "       [ 73.94315312, -19.21907844],\n",
              "       [ 73.14030361, -19.25704971],\n",
              "       [ 71.91789498, -19.28248114],\n",
              "       [ 73.14180806, -19.24793239],\n",
              "       [ 72.96690847, -19.25287211],\n",
              "       [ 70.52304151, -19.31814338]])"
            ]
          },
          "metadata": {
            "tags": []
          },
          "execution_count": 61
        }
      ]
    },
    {
      "cell_type": "code",
      "metadata": {
        "id": "v_T26iNIy81W",
        "colab": {
          "base_uri": "https://localhost:8080/"
        },
        "outputId": "623db300-b272-489c-cc73-c2870f1c93d2"
      },
      "source": [
        "import time\n",
        "\n",
        "t0 = time.time()\n",
        "\n",
        "sampler_shoes.run_mcmc(nuevo_ini, npasos)\n",
        "\n",
        "t1 = time.time()\n",
        "(t1-t0)/60"
      ],
      "execution_count": 72,
      "outputs": [
        {
          "output_type": "execute_result",
          "data": {
            "text/plain": [
              "3.0342817306518555"
            ]
          },
          "metadata": {
            "tags": []
          },
          "execution_count": 72
        }
      ]
    },
    {
      "cell_type": "code",
      "metadata": {
        "colab": {
          "base_uri": "https://localhost:8080/"
        },
        "id": "9zLvlJqGWgx7",
        "outputId": "58c18ece-875c-4e8c-8610-e199044457f8"
      },
      "source": [
        "sampler_shoes.get_chain(flat=True,thin=2).shape"
      ],
      "execution_count": 73,
      "outputs": [
        {
          "output_type": "execute_result",
          "data": {
            "text/plain": [
              "(2272896, 2)"
            ]
          },
          "metadata": {
            "tags": []
          },
          "execution_count": 73
        }
      ]
    },
    {
      "cell_type": "code",
      "metadata": {
        "id": "C_H5RfGoy81X"
      },
      "source": [
        "samples_shoes = sampler_shoes.get_chain(flat=True,thin=2)\n",
        "loglikes_shoes = sampler_shoes.get_log_prob(flat=True,thin=2)"
      ],
      "execution_count": 74,
      "outputs": []
    },
    {
      "cell_type": "markdown",
      "metadata": {
        "id": "TVugBzvay81Y"
      },
      "source": [
        "## 2.b- GetDist: Python package for analysing and plotting MonteCarlo samples\n",
        "[Codigo disponible aqui](https://getdist.readthedocs.io/en/latest/)\n",
        "\n",
        "<center>\n",
        "<img src=\"https://www.leansixsigmadefinition.com/wp-content/uploads/2019/10/six_sigma_definition_standard_deviations.jpg\">"
      ]
    },
    {
      "cell_type": "code",
      "metadata": {
        "id": "h9PcYTUOy81Z",
        "colab": {
          "base_uri": "https://localhost:8080/"
        },
        "outputId": "238df71f-7f84-4284-cba6-5f757fd8b04f"
      },
      "source": [
        "! pip install getdist\n",
        "import getdist\n",
        "from getdist import plots, MCSamples\n",
        "samp_shoes = getdist.mcsamples.MCSamples(samples=samples_shoes, names = ['H0','MB'], labels = ['H_0','M_B'])\n",
        "\n",
        "samp_shoes.updateSettings({'contours': [0.682689492137086, 0.954499736103642,0.997300203936740]})"
      ],
      "execution_count": 75,
      "outputs": [
        {
          "output_type": "stream",
          "text": [
            "Requirement already satisfied: getdist in /usr/local/lib/python3.7/dist-packages (1.2.1)\n",
            "Requirement already satisfied: numpy in /usr/local/lib/python3.7/dist-packages (from getdist) (1.19.5)\n",
            "Requirement already satisfied: matplotlib>=2.2.0 in /usr/local/lib/python3.7/dist-packages (from getdist) (3.2.2)\n",
            "Requirement already satisfied: scipy>=1.0.0 in /usr/local/lib/python3.7/dist-packages (from getdist) (1.4.1)\n",
            "Requirement already satisfied: python-dateutil>=2.1 in /usr/local/lib/python3.7/dist-packages (from matplotlib>=2.2.0->getdist) (2.8.1)\n",
            "Requirement already satisfied: kiwisolver>=1.0.1 in /usr/local/lib/python3.7/dist-packages (from matplotlib>=2.2.0->getdist) (1.3.1)\n",
            "Requirement already satisfied: cycler>=0.10 in /usr/local/lib/python3.7/dist-packages (from matplotlib>=2.2.0->getdist) (0.10.0)\n",
            "Requirement already satisfied: pyparsing!=2.0.4,!=2.1.2,!=2.1.6,>=2.0.1 in /usr/local/lib/python3.7/dist-packages (from matplotlib>=2.2.0->getdist) (2.4.7)\n",
            "Requirement already satisfied: six>=1.5 in /usr/local/lib/python3.7/dist-packages (from python-dateutil>=2.1->matplotlib>=2.2.0->getdist) (1.15.0)\n",
            "Removed no burn in\n"
          ],
          "name": "stdout"
        }
      ]
    },
    {
      "cell_type": "code",
      "metadata": {
        "id": "gyzDB1Sty81a",
        "colab": {
          "base_uri": "https://localhost:8080/",
          "height": 387
        },
        "outputId": "5210bb62-528a-433a-b3b6-4879952e0561"
      },
      "source": [
        "g = plots.get_subplot_plotter(width_inch=10,)\n",
        "g.settings.legend_fontsize = 24\n",
        "g.settings.axes_fontsize = 24\n",
        "g.settings.axes_labelsize = 24\n",
        "\n",
        "g.plots_1d(samp_shoes,['MB','H0'],nx=2, title_limit=1)"
      ],
      "execution_count": 76,
      "outputs": [
        {
          "output_type": "execute_result",
          "data": {
            "text/plain": [
              "(2, 1)"
            ]
          },
          "metadata": {
            "tags": []
          },
          "execution_count": 76
        },
        {
          "output_type": "display_data",
          "data": {
            "image/png": "[encoded data removed]",
            "text/plain": [
              "<Figure size 720x360 with 2 Axes>"
            ]
          },
          "metadata": {
            "tags": [],
            "needs_background": "light"
          }
        }
      ]
    },
    {
      "cell_type": "code",
      "metadata": {
        "id": "ZTYfNB-jy81b",
        "colab": {
          "base_uri": "https://localhost:8080/",
          "height": 701
        },
        "outputId": "4595c244-e2f4-412c-f06f-75a208d2ab3e"
      },
      "source": [
        "g = plots.get_single_plotter(width_inch=9,ratio=1.01)\n",
        "g.settings.legend_fontsize = 24\n",
        "g.settings.axes_fontsize = 24\n",
        "g.settings.axes_labelsize = 24\n",
        "\n",
        "g.plot_2d(samp_shoes, 'H0', 'MB', filled=True, colors=['blue'], alphas=[0.7,0.6])"
      ],
      "execution_count": 77,
      "outputs": [
        {
          "output_type": "execute_result",
          "data": {
            "text/plain": [
              "((68.05816419616156, 78.72001685191587),\n",
              " (-19.393080671337767, -19.08639165256723))"
            ]
          },
          "metadata": {
            "tags": []
          },
          "execution_count": 77
        },
        {
          "output_type": "display_data",
          "data": {
            "image/png": "[encoded data removed]",
            "text/plain": [
              "<Figure size 648x654.48 with 1 Axes>"
            ]
          },
          "metadata": {
            "tags": [],
            "needs_background": "light"
          }
        }
      ]
    },
    {
      "cell_type": "code",
      "metadata": {
        "id": "yA5-45Dgy81b",
        "colab": {
          "base_uri": "https://localhost:8080/"
        },
        "outputId": "fd7548fa-5a5f-4bce-e2f1-f25abed301f5"
      },
      "source": [
        "stat = samp_shoes.getMargeStats()\n",
        "print(stat)"
      ],
      "execution_count": 78,
      "outputs": [
        {
          "output_type": "stream",
          "text": [
            "Marginalized limits: 0.682689492137086; 0.954499736103642; 0.99730020393674\n",
            "\n",
            "parameter   mean           sddev          lower1         upper1         limit1 lower2         upper2         limit2 lower3         upper3         limit3 \n",
            "H0          7.3387126E+01  1.3936323E+00  7.1990431E+01  7.4787221E+01  two    7.0646512E+01  7.6210596E+01  two    6.9309392E+01  7.7529585E+01  two     H_0\n",
            "MB         -1.9237314E+01  4.0054276E-02 -1.9277465E+01 -1.9197163E+01  two   -1.9317228E+01 -1.9157046E+01  two   -1.9357247E+01 -1.9120582E+01  two     M_B\n",
            "\n"
          ],
          "name": "stdout"
        }
      ]
    },
    {
      "cell_type": "code",
      "metadata": {
        "id": "6wzrhBYKy81c",
        "colab": {
          "base_uri": "https://localhost:8080/",
          "height": 686
        },
        "outputId": "3abe39a8-16bf-44d5-f3af-04fcb313258b"
      },
      "source": [
        "g = plots.get_single_plotter(width_inch=10,ratio=1.01)\n",
        "g.settings.legend_fontsize = 24\n",
        "g.settings.axes_fontsize = 24\n",
        "g.settings.axes_labelsize = 24\n",
        "\n",
        "g.triangle_plot(samp_shoes, ['H0', 'MB'], filled=True, colors=['blue'], alphas=[0.7,0.6],title_limit=1,)"
      ],
      "execution_count": 79,
      "outputs": [
        {
          "output_type": "display_data",
          "data": {
            "text/plain": [
              "<Figure size 720x727.2 with 0 Axes>"
            ]
          },
          "metadata": {
            "tags": []
          }
        },
        {
          "output_type": "display_data",
          "data": {
            "image/png": "[encoded data removed]",
            "text/plain": [
              "<Figure size 720x727.2 with 3 Axes>"
            ]
          },
          "metadata": {
            "tags": [],
            "needs_background": "light"
          }
        }
      ]
    },
    {
      "cell_type": "markdown",
      "metadata": {
        "id": "BZxi2lDyy81d"
      },
      "source": [
        "## 3.-H0/q0"
      ]
    },
    {
      "cell_type": "markdown",
      "metadata": {
        "id": "AZXKAu5Cy81d"
      },
      "source": [
        "Nuestro analisis asume $q_0$ libre y $d_L(z)$ hasta $\\mathcal{O}(z^2)$\n",
        "\n",
        "$$d_L(z) = \\frac{cz}{H_0} \\left\\lbrace 1+\\frac{1}{2}(1-q_0)z \\right\\rbrace$$\n",
        "\n"
      ]
    },
    {
      "cell_type": "markdown",
      "metadata": {
        "id": "o2Q2GIjgy81d"
      },
      "source": [
        "Repetir analisis para este caso"
      ]
    },
    {
      "cell_type": "code",
      "metadata": {
        "id": "V3qNpCKfmRk7"
      },
      "source": [
        "# Sigue los pasos:\n",
        "# 1.- Generaliza cosmografia_mB_sh0es (cosmografia_mB) de tal manera que la nueva funcion\n",
        "# tenga como argumento un vector [H0,q0,MB]\n",
        "# 2.- Actualiza chi2_sn([H0,q0,MB]) de manera que ahora use cosmografia_mB\n",
        "# 3.- Actualiza log_flat_prior([H0,q0,MB]) usando q0min = -2.5, q0max = 0.5 \n",
        "# 4.- Reconstruye log_likelihood([H0,q0,MB])"
      ],
      "execution_count": 80,
      "outputs": []
    },
    {
      "cell_type": "code",
      "metadata": {
        "id": "Z1Lvc3VemSAG"
      },
      "source": [
        "def cosmografia_mB(theta_vec):\n",
        "  H0, q0, MB = theta_vec\n",
        "  dL = cosmografia_dL(z_sne,H0,q0)\n",
        "  mB = 5*np.log10(dL) + 25 +MB\n",
        "  return mB"
      ],
      "execution_count": 91,
      "outputs": []
    },
    {
      "cell_type": "code",
      "metadata": {
        "id": "Ldr5Nf0kmceV"
      },
      "source": [
        "from numba import jit"
      ],
      "execution_count": 92,
      "outputs": []
    },
    {
      "cell_type": "code",
      "metadata": {
        "id": "qoTPT38ymSOZ"
      },
      "source": [
        "@jit(forceobj=True)\n",
        "def chi2_sn(theta_vec):\n",
        "    mB_theo = cosmografia_mB(theta_vec)\n",
        "    diff = mb_sne - mB_theo\n",
        "    chi2sn = np.dot(np.dot(diff,inv_cov_sne),diff)\n",
        "    return chi2sn\n",
        "\n",
        "log_lkl_sn = lambda theta_vec: -0.5*chi2_sn(theta_vec)"
      ],
      "execution_count": 93,
      "outputs": []
    },
    {
      "cell_type": "code",
      "metadata": {
        "id": "ZZAkPTt2mSho"
      },
      "source": [
        "H0max = 83\n",
        "H0min = 64\n",
        "MBmin=-19.7\n",
        "MBmax=-18.8\n",
        "q0min = -2.5\n",
        "q0max = 0.5 \n",
        "\n",
        "def log_prior_MB(theta_vec):\n",
        "  H0, q0, MB = theta_vec\n",
        "  logpM = -0.5*(MB-MB_fin)**2/sigma_MB_fin**2\n",
        "  return logpM\n",
        "\n",
        "\n",
        "def log_flat_prior(theta_vec):\n",
        "    H0, q0, MB = theta_vec\n",
        "    if not (H0min<=H0<=H0max):\n",
        "        return -np.inf\n",
        "    elif not (MBmin<=MB<=MBmax):\n",
        "        return -np.inf\n",
        "    elif not (q0min<=q0<=q0max):\n",
        "        return -np.inf\n",
        "    else:\n",
        "        return 0.0\n",
        "\n",
        "def log_likelihood(theta_vec):\n",
        "    H0, q0, MB=theta_vec\n",
        "    loglikelihood = log_lkl_sn(theta_vec) + log_flat_prior(theta_vec) + log_prior_MB(theta_vec)\n",
        "    return loglikelihood"
      ],
      "execution_count": 94,
      "outputs": []
    },
    {
      "cell_type": "code",
      "metadata": {
        "colab": {
          "base_uri": "https://localhost:8080/"
        },
        "id": "_LJXMdJdmviA",
        "outputId": "6e0c4266-70dd-4a40-9ad1-3335dab868bf"
      },
      "source": [
        "log_likelihood([H0min-1e-12,q0min-1e-12,MBmin-1e-12]),log_likelihood([H0max+1e-12,q0max+1e-12,MBmax+1e-12])"
      ],
      "execution_count": 99,
      "outputs": [
        {
          "output_type": "execute_result",
          "data": {
            "text/plain": [
              "(-inf, -inf)"
            ]
          },
          "metadata": {
            "tags": []
          },
          "execution_count": 99
        }
      ]
    },
    {
      "cell_type": "code",
      "metadata": {
        "id": "JTZ3CdJOnEji"
      },
      "source": [
        "primer_bf = np.array([73.5,-0.55,-19.4])\n",
        "\n",
        "ncaminantes = 32\n",
        "npasos = 20000 # 250000\n",
        "burn_in = 500\n",
        "\n",
        "punto_ini = primer_bf + 1e-3*np.random.randn(ncaminantes, len(primer_bf))"
      ],
      "execution_count": 100,
      "outputs": []
    },
    {
      "cell_type": "code",
      "metadata": {
        "id": "pSPQwA4vnGvd"
      },
      "source": [
        "sampler = emcee.EnsembleSampler(ncaminantes, 3, log_likelihood)\n",
        "\n",
        "nuevo_ini = sampler.run_mcmc(punto_ini, burn_in)\n",
        "sampler.reset()"
      ],
      "execution_count": 101,
      "outputs": []
    },
    {
      "cell_type": "code",
      "metadata": {
        "colab": {
          "base_uri": "https://localhost:8080/"
        },
        "id": "rMkPBxmankrw",
        "outputId": "3d128c20-0988-4507-ad38-014d6578217a"
      },
      "source": [
        "t0 = time.time()\n",
        "\n",
        "sampler.run_mcmc(nuevo_ini, npasos)\n",
        "\n",
        "t1 = time.time()\n",
        "(t1-t0)/60"
      ],
      "execution_count": 102,
      "outputs": [
        {
          "output_type": "execute_result",
          "data": {
            "text/plain": [
              "1.1825662493705749"
            ]
          },
          "metadata": {
            "tags": []
          },
          "execution_count": 102
        }
      ]
    },
    {
      "cell_type": "code",
      "metadata": {
        "id": "QESGUgkmnpUO"
      },
      "source": [
        "samples = sampler.get_chain(flat=True,thin=2)\n",
        "loglikes = sampler.get_log_prob(flat=True,thin=2)"
      ],
      "execution_count": 103,
      "outputs": []
    },
    {
      "cell_type": "code",
      "metadata": {
        "colab": {
          "base_uri": "https://localhost:8080/"
        },
        "id": "dWSAePX1nrLX",
        "outputId": "17cd0961-fa5a-483d-9c07-61fa2a476abf"
      },
      "source": [
        "import getdist\n",
        "from getdist import plots, MCSamples\n",
        "samp = getdist.mcsamples.MCSamples(samples=samples, names = ['H0','q0','MB'], labels = ['H_0','q_0','M_B'])\n",
        "\n",
        "samp.updateSettings({'contours': [0.682689492137086, 0.954499736103642,0.997300203936740]})"
      ],
      "execution_count": 104,
      "outputs": [
        {
          "output_type": "stream",
          "text": [
            "Removed no burn in\n"
          ],
          "name": "stdout"
        }
      ]
    },
    {
      "cell_type": "code",
      "metadata": {
        "colab": {
          "base_uri": "https://localhost:8080/"
        },
        "id": "iIfv7th0nuCx",
        "outputId": "6f45e43d-f0de-4c6c-efdd-06fc33685b98"
      },
      "source": [
        "stat = samp.getMargeStats()\n",
        "print(stat)"
      ],
      "execution_count": 105,
      "outputs": [
        {
          "output_type": "stream",
          "text": [
            "Marginalized limits: 0.682689492137086; 0.954499736103642; 0.99730020393674\n",
            "\n",
            "parameter   mean           sddev          lower1         upper1         limit1 lower2         upper2         limit2 lower3         upper3         limit3 \n",
            "H0          7.5171640E+01  1.6681765E+00  7.3508976E+01  7.6847377E+01  two    7.1897597E+01  7.8566890E+01  two    7.0352029E+01  8.0270635E+01  two     H_0\n",
            "q0         -1.0816703E+00  2.8679392E-01 -1.3696620E+00 -7.9466870E-01  two   -1.6626653E+00 -5.1652618E-01  two   -1.9553198E+00 -2.4079075E-01  two     q_0\n",
            "MB         -1.9237510E+01  3.9964993E-02 -1.9277412E+01 -1.9197534E+01  two   -1.9317055E+01 -1.9157079E+01  two   -1.9357418E+01 -1.9116951E+01  two     M_B\n",
            "\n"
          ],
          "name": "stdout"
        }
      ]
    },
    {
      "cell_type": "code",
      "metadata": {
        "colab": {
          "base_uri": "https://localhost:8080/",
          "height": 755
        },
        "id": "iMSe-xEcnwVv",
        "outputId": "7b9166ba-1068-427d-d37b-01f53d29ce6e"
      },
      "source": [
        "g = plots.get_single_plotter(width_inch=10,ratio=1.01)\n",
        "g.settings.legend_fontsize = 24\n",
        "g.settings.axes_fontsize = 24\n",
        "g.settings.axes_labelsize = 24\n",
        "\n",
        "g.triangle_plot([samp,samp_shoes], ['H0','q0', 'MB'], filled=True, colors=['blue','red'], alphas=[0.7,0.6],legend_labels=[r'$q_0$ libre',r'$q_0=0.55$'])"
      ],
      "execution_count": 106,
      "outputs": [
        {
          "output_type": "display_data",
          "data": {
            "text/plain": [
              "<Figure size 720x727.2 with 0 Axes>"
            ]
          },
          "metadata": {
            "tags": []
          }
        },
        {
          "output_type": "display_data",
          "data": {
            "image/png": "[encoded data removed]",
            "text/plain": [
              "<Figure size 720x727.2 with 6 Axes>"
            ]
          },
          "metadata": {
            "tags": [],
            "needs_background": "light"
          }
        }
      ]
    },
    {
      "cell_type": "markdown",
      "metadata": {
        "id": "NUjKbxNDy81l"
      },
      "source": [
        "Reproducir Fig.1 de [arXiv:1906.11814](https://arxiv.org/abs/1906.11814)    "
      ]
    },
    {
      "cell_type": "code",
      "metadata": {
        "id": "Sa_JL5sOnyKe"
      },
      "source": [
        "# Hacer un histograma y graficar la diferencia entre la ecuacion cosmografica 1er y 2do orden"
      ],
      "execution_count": 107,
      "outputs": []
    },
    {
      "cell_type": "markdown",
      "metadata": {
        "id": "COUnVnsFy81l"
      },
      "source": [
        "Analizar $\\Lambda$CDM con CC y SNe (sesion 1.1) usando emcee y getdsit."
      ]
    },
    {
      "cell_type": "code",
      "metadata": {
        "id": "Vk5WTsEKn5Gc"
      },
      "source": [
        "# Realizar lo de la clase anterior con emcee y getdsit"
      ],
      "execution_count": 108,
      "outputs": []
    },
    {
      "cell_type": "code",
      "metadata": {
        "id": "2clg4-ssn9iH"
      },
      "source": [
        ""
      ],
      "execution_count": null,
      "outputs": []
    }
  ]
}