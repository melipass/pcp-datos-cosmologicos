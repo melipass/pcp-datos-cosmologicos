{
  "nbformat": 4,
  "nbformat_minor": 0,
  "metadata": {
    "kernelspec": {
      "display_name": "Python 3",
      "language": "python",
      "name": "python3"
    },
    "language_info": {
      "codemirror_mode": {
        "name": "ipython",
        "version": 3
      },
      "file_extension": ".py",
      "mimetype": "text/x-python",
      "name": "python",
      "nbconvert_exporter": "python",
      "pygments_lexer": "ipython3",
      "version": "3.9.1"
    },
    "colab": {
      "name": "share_sesion1-1_.ipynb",
      "provenance": [],
      "collapsed_sections": [],
      "include_colab_link": true
    }
  },
  "cells": [
    {
      "cell_type": "markdown",
      "metadata": {
        "id": "view-in-github",
        "colab_type": "text"
      },
      "source": [
        "<a href=\"https://colab.research.google.com/github/melipass/pcp-datos-cosmologicos/blob/main/share_sesion1_1_.ipynb\" target=\"_parent\"><img src=\"https://colab.research.google.com/assets/colab-badge.svg\" alt=\"Open In Colab\"/></a>"
      ]
    },
    {
      "cell_type": "markdown",
      "metadata": {
        "id": "CGAuOUqMfhWL"
      },
      "source": [
        "<center>\n",
        "<img src=\"https://habrastorage.org/webt/jq/gc/r5/jqgcr5azmatev6zvgufn8xftehy.png\">\n",
        "    \n",
        "\n",
        "    \n",
        "# Análisis de datos cosmológicos y el problema de la constante de Hubble usando Python\n",
        "\n",
        "### Autor: David F. Camarena Torres"
      ]
    },
    {
      "cell_type": "markdown",
      "metadata": {
        "tags": [],
        "id": "Av2BNHUMfhWa"
      },
      "source": [
        "# <center> Sesión 1.1 Cosmologia de Fondo: $\\Lambda$CDM and Quintaesencia \n",
        "\n",
        "# Outline\n",
        "1. [Introducción: Inferencia Bayesiana y Cosmologia de fondo](#1.-Introducción)\n",
        "2. [$\\Lambda$CDM y quitanesencia from scratch](#2.-LCDM/quintaesencia)\n",
        "3. [Análisis del modelo $\\Lambda$CDM (y $w$CDM) usando supernovas y cronómetros cósmicos](#3.-Analisis)"
      ]
    },
    {
      "cell_type": "markdown",
      "metadata": {
        "id": "xGW1bHsifhWc"
      },
      "source": [
        "## 1.-Introducción\n",
        "### 1.a.-Inferencia Bayesiana:\n",
        "\n",
        "<img src='https://www.boelstad.net/post/Bayesian_statistics_introduction_files/figure-html/bayes-1.svg'/>\n",
        "\n",
        "$$ \\mathcal{P}(\\theta_i|d) = \\frac{\\mathcal{L}(d|\\theta_i)p(\\theta_i)}{\\mathcal{E}}$$\n",
        "\n",
        "### 1.b.-Cosmologia de fondo:\n",
        " - Metrica de FLRW:\n",
        "$$ ds^2 = -c^2 dt^2 + a^2(t) \\left( \\frac{dr^2}{1-kr^2} + r^2 d\\Omega^2 \\right)$$\n",
        "\n",
        " - Ecuacion de Friedmann:\n",
        "$$3H^2 = 8\\pi G \\sum_{i} \\rho_i + \\Lambda  c^2 -  3kc^2 a^{-2}$$\n",
        "\n",
        " - Ecuacion de la aceleracion: \n",
        "$$3\\ddot{a}a^{-1} = 4\\pi G \\sum_{i} \\left( 1 + 3w_i\\right)\\rho_i + \\Lambda c^2$$ \n",
        "\n",
        " - Conserv. de la energia-momentum: \n",
        "$$\\dot{\\rho}_i + 3 H (1+w_i) \\rho_i = 0 \\phantom{separacion}  p_i/c^2 = w_i $$\n",
        "\n",
        "     * Radiacion $(w_r = 1/3)$: $\\rho_r = \\rho_{r0} a^{-4}$\n",
        "     * Materia (Barionica y CDM) $(w_m = 1)$: $\\rho_m = \\rho_{m0} a^{-3}$\n",
        "     * Cons. Cosmo. $(w = -1)$: $\\rho_{\\Lambda} = $ const."
      ]
    },
    {
      "cell_type": "markdown",
      "metadata": {
        "id": "wgMJqcxefhWf"
      },
      "source": [
        "## 2.-LCDM/quintaesencia\n",
        "\n",
        "### 2.a.-Modelo estandar: $\\Lambda$CDM\n",
        " \n",
        "Usando $\\Omega_{i0} = \\rho_{i0}/\\rho_{c0}$ donde $\\rho_{c0} \\equiv 3H_0^2/8\\pi G$:\n",
        "\n",
        "$$E(z)^2 \\equiv (\\frac{H(z)}{H_0})^2 = \\Omega_{m0} (1+z)^3 + \\Omega_{r0} (1+z)^4 + \\Omega_{\\Lambda 0}$$\n",
        " \n",
        "$$\\Omega_r(z) = \\frac{\\Omega_{r0} (1+z)^{4}}{E^2(z)}\\,, \\,\\, \\Omega_m(z) = \\frac{\\Omega_{m0} (1+z)^{3}}{E^2(z)}\\,, \\,\\, \\Omega_{\\Lambda}(z) = \\frac{\\Omega_{\\Lambda 0}}{E^2(z)} \\,, \\,\\, \\sum_i \\Omega_{i}(z) = 1$$\n",
        " \n",
        "$$q(z) \\equiv - \\frac{\\ddot{a}a}{\\dot{a}^2} = \\frac{1}{2} \\left[ \\Omega_m(z) + 2 \\Omega_r(z) - 2\\Omega_{\\Lambda}(z) \\right]$$"
      ]
    },
    {
      "cell_type": "markdown",
      "metadata": {
        "id": "yGQIZFGzJuHq"
      },
      "source": [
        "#### Notas\n",
        "\n",
        "$\\Omega_{i0}$ se usa porque es conveniente usar una variable adimensional.\n",
        "$q(z)$ sería nuestra versión de la variable de aceleración. Con Hubble normalizada, tenemos la división de la cte de Hubble ($H(z)$) dividida por la cte de Hubble hoy ($H_0$)."
      ]
    },
    {
      "cell_type": "code",
      "metadata": {
        "id": "OBwDN67cfhWg"
      },
      "source": [
        "import numpy as np\n",
        "import matplotlib.pyplot as plt\n",
        "\n",
        "plt.rcParams['font.size'] = '18'"
      ],
      "execution_count": 1,
      "outputs": []
    },
    {
      "cell_type": "code",
      "metadata": {
        "id": "pS8QWeOBfhWj"
      },
      "source": [
        "# Planck constraints 2018 -- arXiv:1807.06209\n",
        "OmCDM,OmB,OmR = 0.265, 0.05,5.047e-5 # Radiación es 5x10 a la menos 5\n",
        "OmDE = 1 - (OmCDM + OmB + OmR)\n",
        "H0 = 67.27 #Constante de Hubble. Valor asumido. Sus unidades son km/s/Mpc\n",
        "OmM = OmCDM + OmB\n",
        "#Mpc: megaparsec. 1pc = 3.2 años luz"
      ],
      "execution_count": 4,
      "outputs": []
    },
    {
      "cell_type": "code",
      "metadata": {
        "id": "XLBYWLKyfhWk"
      },
      "source": [
        "# Parametro de Hubble normalizado E(z) = H(z)/H_0\n",
        "def Ez_LCDM(z):\n",
        "    ez = np.sqrt(OmCDM*(1+z)**3 + OmB*(1+z)**3 + OmR*(1+z)**4 + OmDE)\n",
        "    return ez\n",
        "\n",
        "#La raiz cuadrada de la componente de energia de materia oscura y la componente varionica\n",
        "# es lo que llamamos la componente de variante total. También estáá la componente de materia oscura\n",
        "# y la evolución de la componente de radiación elevada a 4.\n",
        "# Con esto, tenemos la variable de Hubble normalizada."
      ],
      "execution_count": 6,
      "outputs": []
    },
    {
      "cell_type": "code",
      "metadata": {
        "colab": {
          "base_uri": "https://localhost:8080/",
          "height": 523
        },
        "id": "MSFA89U2fhWl",
        "outputId": "f8c004cb-5f3a-4c1b-f29d-db5ee6285911"
      },
      "source": [
        "z_to_plot = np.arange(0.,2.5,0.001)\n",
        "\n",
        "fig, ax = plt.subplots(1,1,figsize=(10,8))\n",
        "\n",
        "ax.plot(z_to_plot,H0*Ez_LCDM(z_to_plot))\n",
        "\n",
        "ax.set_xlabel(r'$z$',fontsize=18)\n",
        "ax.set_ylabel(r'$H(z)$ [km/s/Mpc]',fontsize=18)\n",
        "\n",
        "#Hoy tenemos que es aprox a 67.27 que es el valor que le dimos, y podemos\n",
        "#observar su evolucióón a lo largo del tiempo."
      ],
      "execution_count": 8,
      "outputs": [
        {
          "output_type": "execute_result",
          "data": {
            "text/plain": [
              "Text(0, 0.5, '$H(z)$ [km/s/Mpc]')"
            ]
          },
          "metadata": {
            "tags": []
          },
          "execution_count": 8
        },
        {
          "output_type": "display_data",
          "data": {
            "image/png": "[encoded data removed]",
            "text/plain": [
              "<Figure size 720x576 with 1 Axes>"
            ]
          },
          "metadata": {
            "tags": [],
            "needs_background": "light"
          }
        }
      ]
    },
    {
      "cell_type": "markdown",
      "metadata": {
        "id": "8lY3TVudLyQ8"
      },
      "source": [
        "Calcula y grafica $\\Omega_i$ como funcion del redshift"
      ]
    },
    {
      "cell_type": "code",
      "metadata": {
        "id": "octqn92AMOiD"
      },
      "source": [
        "def OmegaDEz_LCDM(z):\n",
        "  omde = OmDE/Ez_LCDM(z)**2\n",
        "  return omde\n",
        "\n",
        "def OmegaRz_LCDM(z):\n",
        "  omcdm = OmR*(1+z)**4/Ez_LCDM(z)**2\n",
        "  return omcdm \n",
        "\n",
        "def OmegaBz_LCDM(z):\n",
        "    omb = OmB*(1+z)**3/Ez_LCDM(z)**2\n",
        "    return omb\n",
        "\n",
        "def OmegaCDMz_LCDM(z):\n",
        "    omcdm = OmCDM*(1+z)**3/Ez_LCDM(z)**2\n",
        "    return omcdm\n",
        "\n",
        "def OmegaMz_LCDM(z):\n",
        "    omm = OmegaCDMz_LCDM(z) + OmegaBz_LCDM(z)\n",
        "    return omm\n"
      ],
      "execution_count": 20,
      "outputs": []
    },
    {
      "cell_type": "markdown",
      "metadata": {
        "id": "RWfA87gPN60m"
      },
      "source": [
        "$$a = 1/(1+z)$$\n",
        "\n",
        "Hoy $a_0 = 1$ en cuanto el redshift $z= 0$"
      ]
    },
    {
      "cell_type": "code",
      "metadata": {
        "id": "gZrN3Gw4Oxwl"
      },
      "source": [
        "# Una cosa interesante es ver la intersección con el redshift\n",
        "\n",
        "# Redshift de igualdad de Materia y Radiacion/Materia y DE\n",
        "OmM = OmB + OmCDM \n",
        "z_r_m = OmM/OmR - 1.\n",
        "z_m_de = (OmDE/OmM)**(1./3.) - 1."
      ],
      "execution_count": 28,
      "outputs": []
    },
    {
      "cell_type": "code",
      "metadata": {
        "colab": {
          "base_uri": "https://localhost:8080/",
          "height": 561
        },
        "id": "YwzIKe90N4Io",
        "outputId": "93c024b5-a193-434f-89b2-234e6284a9b3"
      },
      "source": [
        "z_to_plot = np.logspace(-4,7.,300)\n",
        "\n",
        "fig, ax = plt.subplots(1,1,figsize=(10,8))\n",
        "\n",
        "ax.axvspan(z_r_m,1e7,color='orange',alpha=0.3)\n",
        "ax.axvspan(z_m_de,z_r_m,color='green',alpha=0.3)\n",
        "ax.axvspan(1e-4,z_m_de,color='blue',alpha=0.3)\n",
        "\n",
        "ax.loglog(z_to_plot,OmegaDEz_LCDM(z_to_plot),label=r'$\\Omega_{de}$')\n",
        "ax.loglog(z_to_plot,OmegaRz_LCDM(z_to_plot),label=r'$\\Omega_{r}$')\n",
        "ax.loglog(z_to_plot,OmegaMz_LCDM(z_to_plot),label=r'$\\Omega_{m}$')\n",
        "ax.loglog(z_to_plot,OmegaCDMz_LCDM(z_to_plot),'--',label=r'$\\Omega_{cdm}$')\n",
        "ax.loglog(z_to_plot,OmegaBz_LCDM(z_to_plot),'-.',label=r'$\\Omega_{b}$')\n",
        "\n",
        "ax.set_xlabel(r'$z$',fontsize=18)\n",
        "ax.set_ylabel(r'$\\Omega_x$',fontsize=18)\n",
        "ax.legend(ncol=5, borderaxespad=0.,bbox_to_anchor=(1., 1.08),frameon=False,fontsize=18)\n",
        "\n"
      ],
      "execution_count": 29,
      "outputs": [
        {
          "output_type": "execute_result",
          "data": {
            "text/plain": [
              "<matplotlib.legend.Legend at 0x7f0569b9ea10>"
            ]
          },
          "metadata": {
            "tags": []
          },
          "execution_count": 29
        },
        {
          "output_type": "display_data",
          "data": {
            "image/png": "[encoded data removed]",
            "text/plain": [
              "<Figure size 720x576 with 1 Axes>"
            ]
          },
          "metadata": {
            "tags": [],
            "needs_background": "light"
          }
        }
      ]
    },
    {
      "cell_type": "markdown",
      "metadata": {
        "id": "CdnPPdFwPXxY"
      },
      "source": [
        "Nota: Parametro de ecuacion de estado va cayendo a medida que pasa el tiempo.\n",
        "\n",
        "$$w_{eff}= \\sum i \\Omega_i w_i$$"
      ]
    },
    {
      "cell_type": "code",
      "metadata": {
        "id": "TcHcDSw0fhWu"
      },
      "source": [
        "# parametro de desaceleracion\n",
        "def qz_LCDM(z):\n",
        "    qz = 0.5*(OmegaMz_LCDM(z) + 2*OmegaRz_LCDM(z) - 2*OmegaDEz_LCDM(z))\n",
        "    return qz\n",
        "\n",
        "# parametro de ecuacion de estado efectiva\n",
        "def weffz_LCDM(z):\n",
        "    weff = 1/3*OmegaRz_LCDM(z) - OmegaDEz_LCDM(z)\n",
        "    return weff"
      ],
      "execution_count": 31,
      "outputs": []
    },
    {
      "cell_type": "markdown",
      "metadata": {
        "id": "5nzfA31xPfku"
      },
      "source": [
        "Nota: Una cosa que podemos calcular aqui es cuándo el universo deja de estar en fase de aceleración y pasa a desaceleración."
      ]
    },
    {
      "cell_type": "code",
      "metadata": {
        "id": "-XosbhLBfhWx"
      },
      "source": [
        "# redshift de transicion de q > 0 ----> q < 0\n",
        "from scipy import optimize\n",
        "z_trans = optimize.root_scalar(qz_LCDM,bracket=[0.5,1.5])#En este rango yo sé que va a estar el shift de transición"
      ],
      "execution_count": 33,
      "outputs": []
    },
    {
      "cell_type": "code",
      "metadata": {
        "colab": {
          "base_uri": "https://localhost:8080/",
          "height": 527
        },
        "id": "cVR5QbCTfhWx",
        "outputId": "a0f358da-1771-4965-cc20-b1fb8e5d1e32"
      },
      "source": [
        "z_to_plot = np.logspace(-4,7.,300)\n",
        "\n",
        "fig, ax = plt.subplots(1,1,figsize=(10,8))\n",
        "\n",
        "ax.axvspan(z_r_m,1e7,color='orange',alpha=0.3)\n",
        "ax.axvspan(z_m_de,z_r_m,color='green',alpha=0.3)\n",
        "ax.axvspan(1e-4,z_m_de,color='blue',alpha=0.3)\n",
        "\n",
        "ax.axhline(0.,color='red',ls='--')\n",
        "ax.axhline(-1./3.,color='k',ls='--')\n",
        "\n",
        "ax.axvline(z_trans.root,color='gray',ls='--')\n",
        "\n",
        "ax.semilogx(z_to_plot,qz_LCDM(z_to_plot),color='red',label=r'$q(z)$')\n",
        "ax.semilogx(z_to_plot,weffz_LCDM(z_to_plot),label=r'$w_{eff}(z)$',color='k')\n",
        "\n",
        "ax.legend(loc=0,frameon=False)\n",
        "\n",
        "ax.set_xlabel(r'$z$',fontsize=18)\n",
        "ax.set_ylabel(r'',fontsize=18)\n",
        "\n",
        "# La linea roja es el parametro de desaceleracion (negativo: acelerando,\n",
        "#positivo: desacelerando) y la linea negra el de la ecuación de estado efectiva. Cuando el"
      ],
      "execution_count": 35,
      "outputs": [
        {
          "output_type": "execute_result",
          "data": {
            "text/plain": [
              "Text(0, 0.5, '')"
            ]
          },
          "metadata": {
            "tags": []
          },
          "execution_count": 35
        },
        {
          "output_type": "display_data",
          "data": {
            "image/png": "[encoded data removed]",
            "text/plain": [
              "<Figure size 720x576 with 1 Axes>"
            ]
          },
          "metadata": {
            "tags": [],
            "needs_background": "light"
          }
        }
      ]
    },
    {
      "cell_type": "code",
      "metadata": {
        "colab": {
          "base_uri": "https://localhost:8080/"
        },
        "id": "iyKBW9cZP-QM",
        "outputId": "c620345d-70e1-4d7b-ddea-1fb8fc05c29d"
      },
      "source": [
        "z_trans #veamos cuándo es el redshift"
      ],
      "execution_count": 37,
      "outputs": [
        {
          "output_type": "execute_result",
          "data": {
            "text/plain": [
              "      converged: True\n",
              "           flag: 'converged'\n",
              " function_calls: 8\n",
              "     iterations: 7\n",
              "           root: 0.6319880886219578"
            ]
          },
          "metadata": {
            "tags": []
          },
          "execution_count": 37
        }
      ]
    },
    {
      "cell_type": "markdown",
      "metadata": {
        "id": "2AFZJtcjfhWx"
      },
      "source": [
        "Dada la definicion $H = \\frac{\\dot{a}}{a} = \\frac{\\dot{z}}{(1+z)}$, podemos calcular la edad del universo\n",
        "$$t(z) = \\int^{+\\infty}_{z} \\frac{dz}{(1+z)H(z)}$$\n",
        "\n",
        "Nota: Hacemos la integral desde infinito hasta un redshift cualquiera. Sabiendo la ecuación del parámetro de Hubble simplemente hacemos la integral:"
      ]
    },
    {
      "cell_type": "code",
      "metadata": {
        "id": "C66Tm-18fhW0"
      },
      "source": [
        "from scipy import integrate\n",
        "\n",
        "def tz_LCDM(z):\n",
        "    finte = lambda z: 1/((1+z)*H0*Ez_LCDM(z)) # Nota: la función del redshift a integrar\n",
        "    tz = integrate.quad(finte,z,np.infty)[0] # Aqui [Mpc s/km]\n",
        "    tz = 1e4*tz/3.24076/3.15 # Transformacion a Gyr\n",
        "    return tz\n",
        "\n",
        "tz_LCDM = np.vectorize(tz_LCDM)"
      ],
      "execution_count": 40,
      "outputs": []
    },
    {
      "cell_type": "code",
      "metadata": {
        "colab": {
          "base_uri": "https://localhost:8080/",
          "height": 523
        },
        "id": "-WEf8WCofhW0",
        "outputId": "2e518c55-753a-46e9-cdbc-4ca82101561c"
      },
      "source": [
        "z_to_plot = np.arange(0.,2.5,0.001)\n",
        "\n",
        "fig, ax = plt.subplots(1,1,figsize=(10,8))\n",
        "\n",
        "ax.plot(z_to_plot,tz_LCDM(z_to_plot))\n",
        "\n",
        "ax.set_xlabel(r'$z$',fontsize=18)\n",
        "ax.set_ylabel(r'$t(z)$ [Gyr]',fontsize=18)\n",
        "\n",
        "#Conforme va creciendo el megaparsec va decreciendo el tiempo"
      ],
      "execution_count": 42,
      "outputs": [
        {
          "output_type": "execute_result",
          "data": {
            "text/plain": [
              "Text(0, 0.5, '$t(z)$ [Gyr]')"
            ]
          },
          "metadata": {
            "tags": []
          },
          "execution_count": 42
        },
        {
          "output_type": "display_data",
          "data": {
            "image/png": "[encoded data removed]",
            "text/plain": [
              "<Figure size 720x576 with 1 Axes>"
            ]
          },
          "metadata": {
            "tags": [],
            "needs_background": "light"
          }
        }
      ]
    },
    {
      "cell_type": "code",
      "metadata": {
        "colab": {
          "base_uri": "https://localhost:8080/"
        },
        "id": "HOGCHDvzRHi8",
        "outputId": "9326703c-1cfe-49fa-985a-083951ff2178"
      },
      "source": [
        "# Podemos usar esto para calcular la edad del universo facilmente y obtener los\n",
        "# miles de millones de años:\n",
        "tz_LCDM(0.0)"
      ],
      "execution_count": 43,
      "outputs": [
        {
          "output_type": "execute_result",
          "data": {
            "text/plain": [
              "array(13.84517885)"
            ]
          },
          "metadata": {
            "tags": []
          },
          "execution_count": 43
        }
      ]
    },
    {
      "cell_type": "markdown",
      "metadata": {
        "id": "JPEg0lMBM37q"
      },
      "source": [
        "#### Distancias cosmologicas\n",
        "\n",
        "Distancia co-movil. No tiene en cuenta la expansión del universo, es siempre la misma y no evoluciona con el redshift.\n",
        "$$d_C = \\frac{c}{H_0} \\int_0^z \\frac{dz'}{E(z')}$$\n",
        "\n",
        "Podemos construir otras distancias, como la distancia de luminosidad usando la ley de flujos y cómo evoluciona el universo:\n",
        "$$d_L = (1+z) d_C(z)$$\n",
        "\n",
        "Y la distancia de diámetro angular, transversal a la linea de visión:\n",
        "$$d_A = \\frac{d_C(z)}{(1+z)}$$"
      ]
    },
    {
      "cell_type": "code",
      "metadata": {
        "id": "EtqPl6-TfhW1"
      },
      "source": [
        "from scipy import constants\n",
        "\n",
        "# velocidad de la luz en el vacion en km/s\n",
        "cc = constants.c*1e-3\n",
        "\n",
        "# distancia comovil\n",
        "def dCz_LCDM(z):\n",
        "    invH = lambda z: cc/(H0*Ez_LCDM(z))\n",
        "    dc = integrate.quad(invH,0.,z)[0]\n",
        "    return dc\n",
        "\n",
        "dCz_LCDM = np.vectorize(dCz_LCDM)\n",
        "\n",
        "# distancia de luminosidad\n",
        "def dLz_LCDM(z):\n",
        "    dl = (1+z)*dCz_LCDM(z)\n",
        "    return dl\n",
        "\n",
        "# distancia de diametro angular\n",
        "def dAz_LCDM(z):\n",
        "    da = dCz_LCDM(z)/(1+z)\n",
        "    return da\n",
        "\n",
        "# \"Distance measures in cosmology\", David Hogg, arXiv:astro-ph/9905116"
      ],
      "execution_count": 44,
      "outputs": []
    },
    {
      "cell_type": "code",
      "metadata": {
        "colab": {
          "base_uri": "https://localhost:8080/",
          "height": 523
        },
        "id": "g-xeV_90TEOw",
        "outputId": "afafa08b-d2af-4d41-c948-811e8016eb31"
      },
      "source": [
        "z_to_plot = np.arange(0.,2.5,0.001)\n",
        "\n",
        "fig, ax = plt.subplots(1,1,figsize=(10,8))\n",
        "\n",
        "ax.plot(z_to_plot,dCz_LCDM(z_to_plot))\n",
        "ax.plot(z_to_plot,dLz_LCDM(z_to_plot))\n",
        "ax.plot(z_to_plot,dAz_LCDM(z_to_plot))\n",
        "\n",
        "\n",
        "ax.set_xlabel(r'$z$',fontsize=18)\n",
        "ax.set_ylabel(r'distancias',fontsize=18)"
      ],
      "execution_count": 45,
      "outputs": [
        {
          "output_type": "execute_result",
          "data": {
            "text/plain": [
              "Text(0, 0.5, 'distancias')"
            ]
          },
          "metadata": {
            "tags": []
          },
          "execution_count": 45
        },
        {
          "output_type": "display_data",
          "data": {
            "image/png": "[encoded data removed]",
            "text/plain": [
              "<Figure size 720x576 with 1 Axes>"
            ]
          },
          "metadata": {
            "tags": [],
            "needs_background": "light"
          }
        }
      ]
    },
    {
      "cell_type": "markdown",
      "metadata": {
        "id": "lisIrNZ4fhW3"
      },
      "source": [
        "### 2.b.-Energia oscura dinamica: quintaesencia\n",
        "\n",
        "Campo escalar como candidato a la energia oscura:\n",
        "\n",
        "$$S = \\int \\left( \\frac{R^2}{2 \\kappa^2} + \\mathcal{L}_{\\phi} \\right) \\sqrt{-g} d^4x + S_M$$ \n",
        "\n",
        "$$\\mathcal{L}_{\\phi} = -\\frac{1}{2} g^{\\mu \\nu} \\partial_\\mu \\phi \\partial_\\nu \\phi - V(\\phi)$$\n",
        " \n",
        "Variacion de la accion S respecto a $\\phi$:\n",
        "\n",
        "$$\\ddot{\\phi}+3H\\dot{\\phi}+\\frac{dV}{d\\phi} =0$$ \n",
        "\n",
        "Adicionalmente, del tensor energia momento podemos definir \n",
        "\n",
        "$$p = \\dot{\\phi}^2/2 - V(\\phi) \\,, \\,\\,  \\rho = \\dot{\\phi}^2/2 + V(\\phi)  \\,, \\,\\,  w_{\\phi} = \\frac{\\dot{\\phi}^2 - 2V(\\phi)}{\\dot{\\phi}^2 + 2V(\\phi)}$$\n",
        "\n",
        "Ecuaciones dinamicas pueden ser re-escritas:\n",
        "\n",
        "$$\\frac{dx_1}{dN} = -3x_1 + \\frac{\\sqrt{6}}{2} \\lambda x_2^2 + \\frac{1}{2} x_1 \\left( 3 + 3x_1^2 -3x_2^2 + x_3^2\\right)$$\n",
        "\n",
        "$$\\frac{dx_2}{dN} = -\\frac{\\sqrt{6}}{2} \\lambda x_1 x_2 + \\frac{1}{2} x_2 \\left( 3 + 3x_1^2 -3x_2^2 + x_3^2\\right)$$\n",
        "\n",
        "$$\\frac{dx_3}{dN} = -2x_3 + \\frac{1}{2} x_3 \\left( 3 + 3x_1^2 -3x_2^2 + x_3^2\\right)$$\n",
        "\n",
        "$$\\frac{d\\lambda}{dN} = - \\sqrt{6} \\lambda^2 (\\Gamma -1) x_1$$\n",
        "\n",
        "$$x_1^2 = \\frac{\\kappa^2 \\dot{\\phi}^2}{6H^2} \\,, \\,\\, x_2^2 = \\frac{\\kappa^2 V}{3H^2} \\,, \\,\\, x_r^2 = \\Omega_r  \\,, \\,\\, N = \\ln(a) \\,, \\,\\, \\Gamma = \\frac{VV_{,\\phi \\phi}}{V^2_{,\\phi}}$$\n",
        "\n",
        "$\\Gamma = \\frac{VV_{,\\phi \\phi}}{V^2_{,\\phi}}$ tiene el potencial de campo escalar.\n",
        "El total de materia sería $x_1$ y $x_2$.\n",
        "\n",
        "Dark Energy: Theory and Observations, Luca Amendola, Shiji Tsujikawa [Dark energy book](https://www.cambridge.org/br/academic/subjects/physics/cosmology-relativity-and-gravitation/dark-energy-theory-and-observations?format=HB&isbn=9780521516006)\n",
        "\n",
        "Dynamics of dark energy, Edmund J. Copeland, M. Sami, Shinji Tsujikawa [hep-th/0603057](https://arxiv.org/abs/hep-th/0603057)"
      ]
    },
    {
      "cell_type": "code",
      "metadata": {
        "id": "oqaI9zh6fhW4"
      },
      "source": [
        "from scipy.integrate import odeint #este paquete nos resuelve ecuaciones diferenciales\n",
        "\n",
        "# sistema de ecuacione dinamicas para un potencial V(\\phi) = M^5 \\phi\n",
        "def sis_quintaesencia(vec_x,N):\n",
        "    x1, x2, xr, alpha = vec_x\n",
        "    dx1dN = 0.5*x1*(3*x1**2 - 3*x2**2 + xr**2 + 3) + 0.5*np.sqrt(6)*alpha*x2**2 - 3*x1\n",
        "    dx2dN = 0.5*x2*(3*x1**2 - 3*x2**2 + xr**2 + 3) - 0.5*np.sqrt(6)*alpha*x1*x2\n",
        "    dxrdN = 0.5*xr*(3*x1**2 - 3*x2**2 + xr**2 +3) - 2*xr\n",
        "    dalphadN = -np.sqrt(6)*alpha**2*x1\n",
        "    dxsdN = np.array([dx1dN,dx2dN,dxrdN,dalphadN])\n",
        "    return dxsdN"
      ],
      "execution_count": 46,
      "outputs": []
    },
    {
      "cell_type": "code",
      "metadata": {
        "id": "Tp3FLhCHfhW4"
      },
      "source": [
        "N_ini = -16.4\n",
        "N_tab = np.linspace(N_ini,0.,250) #e false\n",
        "#x_1, x_2, x_r, lambda\n",
        "ini_cond = np.array([4.5e-5,2e-8,0.99976,1e9])"
      ],
      "execution_count": 47,
      "outputs": []
    },
    {
      "cell_type": "code",
      "metadata": {
        "id": "cz84T-DEfhW5"
      },
      "source": [
        "sol = integrate.odeint(sis_quintaesencia,ini_cond,N_tab)\n",
        "\n",
        "OmegaDE_qui = sol[:,0]**2 + sol[:,1]**2\n",
        "OmegaR_qui = sol[:,2]**2\n",
        "OmegaM_qui = 1 - OmegaDE_qui - OmegaR_qui\n",
        "alpha_qui = sol[:,3] \n",
        "\n",
        "wDE_qui = (sol[:,0]**2 - sol[:,1]**2)/(sol[:,0]**2 + sol[:,1]**2)\n",
        "\n",
        "z_tab = 1/np.exp(N_tab) -1"
      ],
      "execution_count": 48,
      "outputs": []
    },
    {
      "cell_type": "code",
      "metadata": {
        "id": "HNCRiiYXfhW7"
      },
      "source": [
        "from scipy import interpolate\n",
        "\n",
        "OmegaDEz_qui = interpolate.interp1d(z_tab,OmegaDE_qui,kind='cubic',)\n",
        "OmegaRz_qui = interpolate.interp1d(z_tab,OmegaR_qui,kind='cubic')\n",
        "OmegaMz_qui = interpolate.interp1d(z_tab,OmegaM_qui,kind='cubic')"
      ],
      "execution_count": 49,
      "outputs": []
    },
    {
      "cell_type": "code",
      "metadata": {
        "colab": {
          "base_uri": "https://localhost:8080/"
        },
        "id": "ewXTB-HzfhW7",
        "outputId": "de4e7258-44bb-4c8d-e967-8573a7570101"
      },
      "source": [
        "print(r'$\\Lambda$CDM: %.3g,%.2g,%.2g'%(OmegaRz_LCDM(0),OmegaMz_LCDM(0),OmegaDEz_LCDM(0)))\n",
        "print(r'Quintaesencia: %.3g,%.2g,%.2g'%(OmegaRz_qui(0),OmegaMz_qui(0),OmegaDEz_qui(0)))\n",
        "\n",
        "#La componente de materia total es 0.32 en ambos casos"
      ],
      "execution_count": 51,
      "outputs": [
        {
          "output_type": "stream",
          "text": [
            "$\\Lambda$CDM: 5.05e-05,0.32,0.68\n",
            "Quintaesencia: 5.07e-05,0.32,0.68\n"
          ],
          "name": "stdout"
        }
      ]
    },
    {
      "cell_type": "markdown",
      "metadata": {
        "id": "gACZyagzOVTx"
      },
      "source": [
        "Calcula y grafica $E(z)$ y $H(z)$\n"
      ]
    },
    {
      "cell_type": "code",
      "metadata": {
        "colab": {
          "base_uri": "https://localhost:8080/",
          "height": 527
        },
        "id": "tZRij29_VnEC",
        "outputId": "5bf2535d-6725-475d-87d2-0bcacdecc531"
      },
      "source": [
        "fig, ax = plt.subplots(1,1,figsize=(10,8))\n",
        "\n",
        "ax.loglog(z_tab,OmegaDEz_LCDM(z_tab),color='C0',ls='-',label=r'$\\Lambda$CDM: $\\Omega_{de}$')\n",
        "ax.loglog(z_tab,OmegaDEz_qui(z_tab),color='C0',ls='--',label=r'Quint.: $\\Omega_{de}$')\n",
        "\n",
        "ax.loglog(z_tab,OmegaRz_LCDM(z_tab),color='C1',ls='-',label=r'$\\Lambda$CDM: $\\Omega_{r}$')\n",
        "ax.loglog(z_tab,OmegaRz_qui(z_tab),color='C1',ls='--',label=r'Quint.: $\\Omega_{r}$')\n",
        "\n",
        "ax.loglog(z_tab,OmegaMz_LCDM(z_tab),color='C2',ls='-',label=r'$\\Lambda$CDM: $\\Omega_{m}$')\n",
        "ax.loglog(z_tab,OmegaMz_qui(z_tab),color='C2',ls='--',label=r'Quint.: $\\Omega_{m}$')\n",
        "\n",
        "ax.set_xlabel(r'$z$',fontsize=18)\n",
        "ax.set_ylabel(r'$\\Omega_x$',fontsize=18)\n",
        "ax.legend(loc=0,frameon=False)\n",
        "\n",
        "# Comienza una energía oscura sub-dominante, decrece y llega un momento en el que resurge hasta que es dominante\n",
        "# La cte cosmológica siempre es dominante"
      ],
      "execution_count": 54,
      "outputs": [
        {
          "output_type": "execute_result",
          "data": {
            "text/plain": [
              "<matplotlib.legend.Legend at 0x7f0569bb6990>"
            ]
          },
          "metadata": {
            "tags": []
          },
          "execution_count": 54
        },
        {
          "output_type": "display_data",
          "data": {
            "image/png": "[encoded data removed]",
            "text/plain": [
              "<Figure size 720x576 with 1 Axes>"
            ]
          },
          "metadata": {
            "tags": [],
            "needs_background": "light"
          }
        }
      ]
    },
    {
      "cell_type": "code",
      "metadata": {
        "colab": {
          "base_uri": "https://localhost:8080/",
          "height": 580
        },
        "id": "xc27TBDvWKGs",
        "outputId": "6475f02f-aa8f-4807-ff4a-e7973260668f"
      },
      "source": [
        "fig, ax = plt.subplots(1,1,figsize=(10,8))\n",
        "\n",
        "ax.semilogx(z_tab,wDE_qui)\n",
        "ax.axhline(-1,color='gray',ls='--')\n",
        "\n",
        "ax.set_xlabel(r'$z$',fontsize=18)\n",
        "ax.set_ylabel(r'$w_{DE}$',fontsize=18)\n",
        "\n",
        "ax.legend(ncol=5, borderaxespad=0.,bbox_to_anchor=(1., 1.08),frameon=False)"
      ],
      "execution_count": 55,
      "outputs": [
        {
          "output_type": "stream",
          "text": [
            "No handles with labels found to put in legend.\n"
          ],
          "name": "stderr"
        },
        {
          "output_type": "execute_result",
          "data": {
            "text/plain": [
              "<matplotlib.legend.Legend at 0x7f056a0b5c90>"
            ]
          },
          "metadata": {
            "tags": []
          },
          "execution_count": 55
        },
        {
          "output_type": "display_data",
          "data": {
            "image/png": "[encoded data removed]",
            "text/plain": [
              "<Figure size 720x576 with 1 Axes>"
            ]
          },
          "metadata": {
            "tags": [],
            "needs_background": "light"
          }
        }
      ]
    },
    {
      "cell_type": "code",
      "metadata": {
        "id": "ebig-EnHfhXA"
      },
      "source": [
        "def qz_qui(z):\n",
        "    qz = 0.5*(OmegaMz_qui(z) + 2*OmegaRz_qui(z) - 2*OmegaDEz_qui(z))\n",
        "    return qz\n",
        "\n",
        "def weffz_qui(z):\n",
        "    weff = 1/3*OmegaRz_qui(z) - OmegaDEz_qui(z)\n",
        "    return weff"
      ],
      "execution_count": 56,
      "outputs": []
    },
    {
      "cell_type": "code",
      "metadata": {
        "colab": {
          "base_uri": "https://localhost:8080/",
          "height": 527
        },
        "id": "oHRYh7DLfhXB",
        "outputId": "40e688e6-6b18-4160-a83c-5668bff301ce"
      },
      "source": [
        "z_to_plot = np.logspace(-4,7.,300)\n",
        "\n",
        "fig, ax = plt.subplots(1,1,figsize=(10,8))\n",
        "\n",
        "ax.axhline(0.,color='red',ls='--')\n",
        "ax.axhline(-1./3.,color='k',ls='--')\n",
        "\n",
        "ax.axvline(z_trans.root,color='gray',ls='--')\n",
        "\n",
        "ax.semilogx(z_to_plot,qz_qui(z_to_plot),color='red',label=r'$q(z)$')\n",
        "ax.semilogx(z_to_plot,weffz_qui(z_to_plot),label=r'$w_{eff}(z)$',color='k')\n",
        "\n",
        "ax.legend(loc=0,frameon=False)\n",
        "\n",
        "ax.set_xlabel(r'$z$',fontsize=18)\n",
        "ax.set_ylabel(r'',fontsize=18)"
      ],
      "execution_count": 57,
      "outputs": [
        {
          "output_type": "execute_result",
          "data": {
            "text/plain": [
              "Text(0, 0.5, '')"
            ]
          },
          "metadata": {
            "tags": []
          },
          "execution_count": 57
        },
        {
          "output_type": "display_data",
          "data": {
            "image/png": "[encoded data removed]",
            "text/plain": [
              "<Figure size 720x576 with 1 Axes>"
            ]
          },
          "metadata": {
            "tags": [],
            "needs_background": "light"
          }
        }
      ]
    },
    {
      "cell_type": "markdown",
      "metadata": {
        "id": "mEHdBmEbBK2D"
      },
      "source": [
        "A que redshift el universo empieza acelerar segun este modelo de Quintaesencia?"
      ]
    },
    {
      "cell_type": "markdown",
      "metadata": {
        "id": "ZDzKwo1qBMLx"
      },
      "source": [
        "Calcula la edad del universo usando este modelo de Quintaesencia y comparalo con el valor obtenido para el modelo $\\Lambda$CDM"
      ]
    },
    {
      "cell_type": "markdown",
      "metadata": {
        "id": "BL-9GgSFBofP"
      },
      "source": [
        "Compara las distancias cosmologicas del modelo de Quintaesencia con las distancias de $\\Lambda$CDM\n",
        "\n"
      ]
    },
    {
      "cell_type": "markdown",
      "metadata": {
        "id": "XUZaQON1fhXD"
      },
      "source": [
        "## 3.-Analisis"
      ]
    },
    {
      "cell_type": "markdown",
      "metadata": {
        "id": "vaWve_UUfhXE"
      },
      "source": [
        "### 3.a.-CLASS: Cosmic Linear Anisotropy Solving System \n",
        "\n",
        "'Calculadora' cosmologica ([link](https://github.com/lesgourg/class_public)) para el modelo $\\Lambda$CDM y algunas extensiones, por ejemplo $w$CDM. Codigo fuente en C++ wrapped en python: classy."
      ]
    },
    {
      "cell_type": "code",
      "metadata": {
        "colab": {
          "base_uri": "https://localhost:8080/"
        },
        "id": "qY3nU7QVfhXE",
        "outputId": "0c0479d4-5816-48d2-f06a-16ff0b5d713a"
      },
      "source": [
        "! pip install classy\n",
        "from classy import Class"
      ],
      "execution_count": 58,
      "outputs": [
        {
          "output_type": "stream",
          "text": [
            "Collecting classy\n",
            "\u001b[?25l  Downloading https://files.pythonhosted.org/packages/fb/db/d7b637af503833faae477aa0700755e63e7b481b03c809c6714283bdaf43/classy-2.9.4.0.tar.gz (639kB)\n",
            "\u001b[K     |████████████████████████████████| 645kB 5.0MB/s \n",
            "\u001b[?25h  Installing build dependencies ... \u001b[?25l\u001b[?25hdone\n",
            "  Getting requirements to build wheel ... \u001b[?25l\u001b[?25hdone\n",
            "    Preparing wheel metadata ... \u001b[?25l\u001b[?25hdone\n",
            "Requirement already satisfied: numpy in /usr/local/lib/python3.7/dist-packages (from classy) (1.19.5)\n",
            "Building wheels for collected packages: classy\n",
            "  Building wheel for classy (PEP 517) ... \u001b[?25l\u001b[?25hdone\n",
            "  Created wheel for classy: filename=classy-2.9.4.0-cp37-cp37m-linux_x86_64.whl size=1819895 sha256=3505b34ba13e85b57fd42ac185f8a920a6a8a1d0ccced1e4e70a8c25408063cf\n",
            "  Stored in directory: /root/.cache/pip/wheels/24/7f/44/37bf2c66a149d5fc3fabe8215321ee98a5e11553edfe22893a\n",
            "Successfully built classy\n",
            "Installing collected packages: classy\n",
            "Successfully installed classy-2.9.4.0\n"
          ],
          "name": "stdout"
        }
      ]
    },
    {
      "cell_type": "markdown",
      "metadata": {
        "id": "FqZEWCXCfhXF"
      },
      "source": [
        "#### $\\Lambda$CDM from CLASS"
      ]
    },
    {
      "cell_type": "code",
      "metadata": {
        "id": "f8TDfV0IfhXF"
      },
      "source": [
        "LCDM_arguments = {'h': H0/100, 'Omega_cdm': OmCDM, 'Omega_b': OmB}\n",
        "LCDM = Class()\n",
        "LCDM.set(LCDM_arguments) #fijamos los argumentos para el algoritmo\n",
        "LCDM.compute()"
      ],
      "execution_count": 60,
      "outputs": []
    },
    {
      "cell_type": "code",
      "metadata": {
        "colab": {
          "base_uri": "https://localhost:8080/"
        },
        "id": "ov322-nuXzEu",
        "outputId": "116b9d6e-6a05-46e9-ad6d-1d498060a55a"
      },
      "source": [
        "LCDM.age() # Con esta librería podemos ver distintas cosas, incluye muchos métodos\n",
        "# para cosmología y como ejemplo podemos comparar su resultado para la edad del universo\n",
        "# con lo que fue calculado anteriormente"
      ],
      "execution_count": 63,
      "outputs": [
        {
          "output_type": "execute_result",
          "data": {
            "text/plain": [
              "13.817315408996963"
            ]
          },
          "metadata": {
            "tags": []
          },
          "execution_count": 63
        }
      ]
    },
    {
      "cell_type": "code",
      "metadata": {
        "id": "snRKor5_fhXG"
      },
      "source": [
        "Hz_class = lambda z: cc*LCDM.Hubble(z)\n",
        "Hz_class = np.vectorize(Hz_class)"
      ],
      "execution_count": 64,
      "outputs": []
    },
    {
      "cell_type": "code",
      "metadata": {
        "colab": {
          "base_uri": "https://localhost:8080/",
          "height": 523
        },
        "id": "-ioo7vNkfhXG",
        "outputId": "2c500484-8ffd-4845-8ba6-842ef4a16418"
      },
      "source": [
        "z_to_plot = np.arange(0.,2.5,0.001)\n",
        "\n",
        "fig, ax = plt.subplots(1,1,figsize=(10,8))\n",
        "\n",
        "ax.plot(z_to_plot,Hz_class(z_to_plot))\n",
        "ax.plot(z_to_plot,H0*Ez_LCDM(z_to_plot),'--')\n",
        "\n",
        "ax.set_xlabel(r'$z$',fontsize=18)\n",
        "ax.set_ylabel(r'$H(z)$ [km/s/Mpc]',fontsize=18)"
      ],
      "execution_count": 65,
      "outputs": [
        {
          "output_type": "execute_result",
          "data": {
            "text/plain": [
              "Text(0, 0.5, '$H(z)$ [km/s/Mpc]')"
            ]
          },
          "metadata": {
            "tags": []
          },
          "execution_count": 65
        },
        {
          "output_type": "display_data",
          "data": {
            "image/png": "[encoded data removed]",
            "text/plain": [
              "<Figure size 720x576 with 1 Axes>"
            ]
          },
          "metadata": {
            "tags": [],
            "needs_background": "light"
          }
        }
      ]
    },
    {
      "cell_type": "markdown",
      "metadata": {
        "id": "MlxJurF7CJ5O"
      },
      "source": [
        "Usa la funcion para LCDM.get_background() para graficar $\\Omega_i$ como funcion del redshift"
      ]
    },
    {
      "cell_type": "code",
      "metadata": {
        "colab": {
          "base_uri": "https://localhost:8080/"
        },
        "id": "L3nrKyOtYTrM",
        "outputId": "75fdb730-f3e6-4773-c3ee-73b334c221aa"
      },
      "source": [
        "LCDM.get_background()"
      ],
      "execution_count": 66,
      "outputs": [
        {
          "output_type": "execute_result",
          "data": {
            "text/plain": [
              "{'(.)p_tot': array([ 1.55166817e+44,  1.50897126e+44,  1.46744924e+44, ...,\n",
              "        -3.44836128e-08, -3.44836581e-08, -3.44837001e-08]),\n",
              " '(.)p_tot_prime': array([-1.33911815e+53, -1.29321741e+53, -1.24889001e+53, ...,\n",
              "        -1.46064598e-15, -1.42540531e-15, -1.39270639e-15]),\n",
              " '(.)rho_b': array([2.51751145e+33, 2.46537531e+33, 2.41431888e+33, ...,\n",
              "        2.62305224e-09, 2.56844481e-09, 2.51751145e-09]),\n",
              " '(.)rho_cdm': array([1.33428107e+34, 1.30664891e+34, 1.27958901e+34, ...,\n",
              "        1.39021769e-08, 1.36127575e-08, 1.33428107e-08]),\n",
              " '(.)rho_crit': array([4.65500451e+44, 4.52691379e+44, 4.40234771e+44, ...,\n",
              "        5.10153979e-08, 5.06712351e-08, 5.03502289e-08]),\n",
              " '(.)rho_g': array([2.75156054e+44, 2.67584646e+44, 2.60221579e+44, ...,\n",
              "        2.90642902e-12, 2.82603445e-12, 2.75156054e-12]),\n",
              " '(.)rho_lambda': array([3.44852518e-08, 3.44852518e-08, 3.44852518e-08, ...,\n",
              "        3.44852518e-08, 3.44852518e-08, 3.44852518e-08]),\n",
              " '(.)rho_tot': array([4.65500451e+44, 4.52691379e+44, 4.40234771e+44, ...,\n",
              "        5.10153979e-08, 5.06712351e-08, 5.03502289e-08]),\n",
              " '(.)rho_ur': array([1.90344398e+44, 1.85106733e+44, 1.80013193e+44, ...,\n",
              "        2.01057717e-12, 1.95496271e-12, 1.90344398e-12]),\n",
              " 'H [1/Mpc]': array([2.15754595e+22, 2.12765453e+22, 2.09817724e+22, ...,\n",
              "        2.25865885e-04, 2.25102721e-04, 2.24388567e-04]),\n",
              " 'ang.diam.dist.': array([1.41712079e-10, 1.42704063e-10, 1.43702992e-10, ...,\n",
              "        6.03925247e+01, 2.96075840e+01, 0.00000000e+00]),\n",
              " 'comov. dist.': array([14171.20787411, 14171.20787411, 14171.20787411, ...,\n",
              "           61.22493707,    29.80592227,     0.        ]),\n",
              " 'comov.snd.hrz.': array([2.67595816e-09, 2.69468987e-09, 2.71355270e-09, ...,\n",
              "        1.21623836e+03, 1.21693386e+03, 1.21759139e+03]),\n",
              " 'conf. time [Mpc]': array([4.63478500e-09, 4.66752681e-09, 4.70026862e-09, ...,\n",
              "        1.41099829e+04, 1.41414020e+04, 1.41712079e+04]),\n",
              " 'gr.fac. D': array([5.51993103e-20, 7.70098135e-08, 1.54019627e-07, ...,\n",
              "        9.92753889e-01, 9.96473620e-01, 1.00000000e+00]),\n",
              " 'gr.fac. f': array([2.00000000e+14, 1.43356562e+02, 7.16782808e+01, ...,\n",
              "        5.35445891e-01, 5.31159863e-01, 5.27082936e-01]),\n",
              " 'lum. dist.': array([1.41712079e+18, 1.40726990e+18, 1.39748749e+18, ...,\n",
              "        6.20688229e+01, 3.00055892e+01, 0.00000000e+00]),\n",
              " 'proper time [Gyr]': array([7.55850363e-26, 7.66469305e-26, 7.77237432e-26, ...,\n",
              "        1.36189869e+01, 1.37204238e+01, 1.38173154e+01]),\n",
              " 'z': array([1.00000000e+14, 9.93048659e+13, 9.86145640e+13, ...,\n",
              "        1.37833684e-02, 6.69890180e-03, 0.00000000e+00])}"
            ]
          },
          "metadata": {
            "tags": []
          },
          "execution_count": 66
        }
      ]
    },
    {
      "cell_type": "markdown",
      "metadata": {
        "id": "S9sRSqUnfhXG"
      },
      "source": [
        "#### $w$CDM from CLASS\n",
        "\n",
        "Modelo fenomenologico que imita una componente de energia escura dinamica. En este caso usamos la aproximacion CLP:\n",
        "$$w_{fld}(a) = w_0 + w_a (1-a)$$"
      ]
    },
    {
      "cell_type": "code",
      "metadata": {
        "id": "qUqra8jsfhXI"
      },
      "source": [
        "wCDM_arguments = {'h': H0/100, 'Omega_cdm': OmCDM, 'Omega_b': OmB,'Omega_fld':LCDM.Omega_Lambda(),'fluid_equation_of_state':'CLP','w0_fld':-0.95,\n",
        "                  'wa_fld':0.75} # la energia de lambda pasa a llamarse omega de fluido\n",
        "wCDM = Class()\n",
        "wCDM.set(wCDM_arguments)\n",
        "wCDM.compute()"
      ],
      "execution_count": 70,
      "outputs": []
    },
    {
      "cell_type": "code",
      "metadata": {
        "id": "nUw7mT0BfhXI"
      },
      "source": [
        "Hz_wCDM = lambda z: cc*wCDM.Hubble(z)\n",
        "Hz_wCDM = np.vectorize(Hz_wCDM)"
      ],
      "execution_count": 71,
      "outputs": []
    },
    {
      "cell_type": "code",
      "metadata": {
        "colab": {
          "base_uri": "https://localhost:8080/",
          "height": 523
        },
        "id": "vcI9T-_HfhXI",
        "outputId": "91fef2ac-ee9c-45e1-d2dd-60a7c642ae11"
      },
      "source": [
        "z_to_plot = np.arange(0.,1.5,0.001)\n",
        "\n",
        "fig, ax = plt.subplots(1,1,figsize=(10,8))\n",
        "\n",
        "#ax.plot(z_to_plot,H0*Ez_qui(z_to_plot),label='Quintaesencia')\n",
        "ax.plot(z_to_plot,H0*Ez_LCDM(z_to_plot),label=r'$\\Lambda$CDM')\n",
        "ax.plot(z_to_plot,Hz_wCDM(z_to_plot),label=r'$w$CDM con $w_0 = -0.95$ y $w_a = 0.75$')\n",
        "\n",
        "ax.legend(loc=0)\n",
        "ax.set_xlabel(r'$z$',fontsize=18)\n",
        "ax.set_ylabel(r'$H(z)$ [km/s/Mpc]',fontsize=18)"
      ],
      "execution_count": 73,
      "outputs": [
        {
          "output_type": "execute_result",
          "data": {
            "text/plain": [
              "Text(0, 0.5, '$H(z)$ [km/s/Mpc]')"
            ]
          },
          "metadata": {
            "tags": []
          },
          "execution_count": 73
        },
        {
          "output_type": "display_data",
          "data": {
            "image/png": "[encoded data removed]",
            "text/plain": [
              "<Figure size 720x576 with 1 Axes>"
            ]
          },
          "metadata": {
            "tags": [],
            "needs_background": "light"
          }
        }
      ]
    },
    {
      "cell_type": "markdown",
      "metadata": {
        "id": "jWc8VQJcCmjp"
      },
      "source": [
        "Grafica $\\Omega_{DE}(z)$ de los modelos $\\Lambda$CDM, $w$CDM y Quintaesencia. "
      ]
    },
    {
      "cell_type": "markdown",
      "metadata": {
        "id": "HgTUZraFonwX"
      },
      "source": [
        "### Descargando Data sets"
      ]
    },
    {
      "cell_type": "code",
      "metadata": {
        "id": "5Epau4wK1NVZ",
        "colab": {
          "base_uri": "https://localhost:8080/"
        },
        "outputId": "a251bbfb-a4c3-42c3-81cd-c8af421fe2e4"
      },
      "source": [
        "! pip install gdown\n",
        "import os \n",
        "if not 'datos_sesion1-2.tar.gz' in os.listdir():\n",
        "  ! gdown --id 1nQPXC3id4JhqtSD1gLQf1ocBk7gvf81I --output datos_sesion1-2.tar.gz\n",
        "  ! tar -xvf datos_sesion1-2.tar.gz"
      ],
      "execution_count": 74,
      "outputs": [
        {
          "output_type": "stream",
          "text": [
            "Requirement already satisfied: gdown in /usr/local/lib/python3.7/dist-packages (3.6.4)\n",
            "Requirement already satisfied: tqdm in /usr/local/lib/python3.7/dist-packages (from gdown) (4.41.1)\n",
            "Requirement already satisfied: six in /usr/local/lib/python3.7/dist-packages (from gdown) (1.15.0)\n",
            "Requirement already satisfied: requests in /usr/local/lib/python3.7/dist-packages (from gdown) (2.23.0)\n",
            "Requirement already satisfied: chardet<4,>=3.0.2 in /usr/local/lib/python3.7/dist-packages (from requests->gdown) (3.0.4)\n",
            "Requirement already satisfied: idna<3,>=2.5 in /usr/local/lib/python3.7/dist-packages (from requests->gdown) (2.10)\n",
            "Requirement already satisfied: urllib3!=1.25.0,!=1.25.1,<1.26,>=1.21.1 in /usr/local/lib/python3.7/dist-packages (from requests->gdown) (1.24.3)\n",
            "Requirement already satisfied: certifi>=2017.4.17 in /usr/local/lib/python3.7/dist-packages (from requests->gdown) (2020.12.5)\n",
            "Downloading...\n",
            "From: https://drive.google.com/uc?id=1nQPXC3id4JhqtSD1gLQf1ocBk7gvf81I\n",
            "To: /content/datos_sesion1-2.tar.gz\n",
            "3.30MB [00:00, 97.0MB/s]\n",
            "datos_sesion1-1/\n",
            "datos_sesion1-1/Pantheon/\n",
            "datos_sesion1-1/Pantheon/pantheon.dataset\n",
            "datos_sesion1-1/Pantheon/sys_full_long.dat\n",
            "datos_sesion1-1/Pantheon/lcparam_full_long.txt\n",
            "datos_sesion1-1/cosmic_clocks/\n",
            "datos_sesion1-1/cosmic_clocks/Hz_2016.dat\n"
          ],
          "name": "stdout"
        }
      ]
    },
    {
      "cell_type": "markdown",
      "metadata": {
        "id": "4KhAfGmAfhXK"
      },
      "source": [
        "#### Cosmic chronometers\n",
        "\n",
        "De pares de galaxia con evolucion pasiva ([astro-\n",
        "ph/0106145](https://arxiv.org/abs/astro-ph/0106145)):\n",
        "$$\\frac{dt}{dz} \\propto H(z)$$ \n",
        "\n",
        "Datos provenientes de [arXiv:1601.01701](https://arxiv.org/abs/1601.01701)"
      ]
    },
    {
      "cell_type": "code",
      "metadata": {
        "colab": {
          "base_uri": "https://localhost:8080/"
        },
        "id": "UrRcGHsFfhXK",
        "outputId": "7897e161-ec57-4044-bb84-914b147a8cec"
      },
      "source": [
        "cc_datos = np.loadtxt('datos_sesion1-1/cosmic_clocks/Hz_2016.dat')\n",
        "\n",
        "z_hz = cc_datos[:, 0] # Primera columna es el redshift\n",
        "Hz = cc_datos[:, 1]\n",
        "err_hz = cc_datos[:, 2] # Tercera columna son los errores\n",
        "\n",
        "print('zmin, zmax: %.4f, %.4f'%(np.min(z_hz),np.max(z_hz))) # shift minimo y maximo"
      ],
      "execution_count": 76,
      "outputs": [
        {
          "output_type": "stream",
          "text": [
            "zmin, zmax: 0.0700, 1.9650\n"
          ],
          "name": "stdout"
        }
      ]
    },
    {
      "cell_type": "markdown",
      "metadata": {
        "id": "86KbpmHpESuo"
      },
      "source": [
        "Grafica H(z) de $\\Lambda$CDM y $w$CDM junto con los datos."
      ]
    },
    {
      "cell_type": "code",
      "metadata": {
        "colab": {
          "base_uri": "https://localhost:8080/",
          "height": 523
        },
        "id": "oWBtfW3UfhXL",
        "outputId": "1f56eccb-24d2-420c-a85a-29adbcd5ccc8"
      },
      "source": [
        "z_to_plot = np.arange(0.,2.15,0.001)\n",
        "\n",
        "fig, ax = plt.subplots(1,1,figsize=(10,8))\n",
        "\n",
        "ax.errorbar(z_hz,Hz,err_hz,ls=' ',marker='.')\n",
        "ax.plot(z_to_plot,H0*Ez_LCDM(z_to_plot),label=r'$\\Lambda$CDM')\n",
        "ax.plot(z_to_plot,Hz_wCDM(z_to_plot),label=r'$w$CDM')\n",
        "\n",
        "ax.legend(loc=0)\n",
        "ax.set_xlabel(r'$z$',fontsize=18)\n",
        "ax.set_ylabel(r'$H(z)$ [km/s/Mpc]',fontsize=18)"
      ],
      "execution_count": 78,
      "outputs": [
        {
          "output_type": "execute_result",
          "data": {
            "text/plain": [
              "Text(0, 0.5, '$H(z)$ [km/s/Mpc]')"
            ]
          },
          "metadata": {
            "tags": []
          },
          "execution_count": 78
        },
        {
          "output_type": "display_data",
          "data": {
            "image/png": "[encoded data removed]",
            "text/plain": [
              "<Figure size 720x576 with 1 Axes>"
            ]
          },
          "metadata": {
            "tags": [],
            "needs_background": "light"
          }
        }
      ]
    },
    {
      "cell_type": "markdown",
      "metadata": {
        "id": "wFpwsRnafhXL"
      },
      "source": [
        "#### Supernovas\n",
        "\n",
        "\"Candela estándar\":\n",
        "$$m_B(z) = 5\\log_{10}\\frac{d_L(z)}{\\rm 1 Mpc}+25 + M_B$$\n",
        "\n",
        "Datos provenientes de [arXiv:1710.00845](https://arxiv.org/abs/1710.00845)"
      ]
    },
    {
      "cell_type": "code",
      "metadata": {
        "tags": [],
        "colab": {
          "base_uri": "https://localhost:8080/",
          "height": 206
        },
        "id": "xWfqrOiBfhXM",
        "outputId": "687f121c-d51a-4ee8-efdb-bbfc2a790111"
      },
      "source": [
        "import pandas\n",
        "\n",
        "# El conjunto de Pantheon es el último conjunto de supernovas usado hoy en día\n",
        "sne_datos = pandas.read_table('datos_sesion1-1/Pantheon/lcparam_full_long.txt',sep=' ')\n",
        "\n",
        "cov_sne = pandas.read_table('datos_sesion1-1/Pantheon/sys_full_long.dat')\n",
        "cov_sne = np.array(cov_sne).reshape((1048, 1048))\n",
        "\n",
        "sne_datos.head()\n",
        "\n",
        "# Los parámetros en 0 son en su mayoría relacionados a las curvas de luz de las supernovas.\n",
        "# dmb son los errores"
      ],
      "execution_count": 81,
      "outputs": [
        {
          "output_type": "execute_result",
          "data": {
            "text/html": [
              "<div>\n",
              "<style scoped>\n",
              "    .dataframe tbody tr th:only-of-type {\n",
              "        vertical-align: middle;\n",
              "    }\n",
              "\n",
              "    .dataframe tbody tr th {\n",
              "        vertical-align: top;\n",
              "    }\n",
              "\n",
              "    .dataframe thead th {\n",
              "        text-align: right;\n",
              "    }\n",
              "</style>\n",
              "<table border=\"1\" class=\"dataframe\">\n",
              "  <thead>\n",
              "    <tr style=\"text-align: right;\">\n",
              "      <th></th>\n",
              "      <th>#name</th>\n",
              "      <th>zcmb</th>\n",
              "      <th>zhel</th>\n",
              "      <th>dz</th>\n",
              "      <th>mb</th>\n",
              "      <th>dmb</th>\n",
              "      <th>x1</th>\n",
              "      <th>dx1</th>\n",
              "      <th>color</th>\n",
              "      <th>dcolor</th>\n",
              "      <th>3rdvar</th>\n",
              "      <th>d3rdvar</th>\n",
              "      <th>cov_m_s</th>\n",
              "      <th>cov_m_c</th>\n",
              "      <th>cov_s_c</th>\n",
              "      <th>set</th>\n",
              "      <th>ra</th>\n",
              "      <th>dec</th>\n",
              "      <th>biascor</th>\n",
              "      <th>Unnamed: 19</th>\n",
              "    </tr>\n",
              "  </thead>\n",
              "  <tbody>\n",
              "    <tr>\n",
              "      <th>0</th>\n",
              "      <td>03D1au</td>\n",
              "      <td>0.50309</td>\n",
              "      <td>0.50309</td>\n",
              "      <td>0.0</td>\n",
              "      <td>22.93445</td>\n",
              "      <td>0.12605</td>\n",
              "      <td>0</td>\n",
              "      <td>0</td>\n",
              "      <td>0</td>\n",
              "      <td>0</td>\n",
              "      <td>0</td>\n",
              "      <td>0</td>\n",
              "      <td>0</td>\n",
              "      <td>0</td>\n",
              "      <td>0</td>\n",
              "      <td>0</td>\n",
              "      <td>0</td>\n",
              "      <td>0</td>\n",
              "      <td>NaN</td>\n",
              "      <td>NaN</td>\n",
              "    </tr>\n",
              "    <tr>\n",
              "      <th>1</th>\n",
              "      <td>03D1ax</td>\n",
              "      <td>0.49480</td>\n",
              "      <td>0.49480</td>\n",
              "      <td>0.0</td>\n",
              "      <td>22.88020</td>\n",
              "      <td>0.11765</td>\n",
              "      <td>0</td>\n",
              "      <td>0</td>\n",
              "      <td>0</td>\n",
              "      <td>0</td>\n",
              "      <td>0</td>\n",
              "      <td>0</td>\n",
              "      <td>0</td>\n",
              "      <td>0</td>\n",
              "      <td>0</td>\n",
              "      <td>0</td>\n",
              "      <td>0</td>\n",
              "      <td>0</td>\n",
              "      <td>NaN</td>\n",
              "      <td>NaN</td>\n",
              "    </tr>\n",
              "    <tr>\n",
              "      <th>2</th>\n",
              "      <td>03D1co</td>\n",
              "      <td>0.67767</td>\n",
              "      <td>0.67767</td>\n",
              "      <td>0.0</td>\n",
              "      <td>24.03770</td>\n",
              "      <td>0.20560</td>\n",
              "      <td>0</td>\n",
              "      <td>0</td>\n",
              "      <td>0</td>\n",
              "      <td>0</td>\n",
              "      <td>0</td>\n",
              "      <td>0</td>\n",
              "      <td>0</td>\n",
              "      <td>0</td>\n",
              "      <td>0</td>\n",
              "      <td>0</td>\n",
              "      <td>0</td>\n",
              "      <td>0</td>\n",
              "      <td>NaN</td>\n",
              "      <td>NaN</td>\n",
              "    </tr>\n",
              "    <tr>\n",
              "      <th>3</th>\n",
              "      <td>03D1ew</td>\n",
              "      <td>0.86650</td>\n",
              "      <td>0.86650</td>\n",
              "      <td>0.0</td>\n",
              "      <td>24.34685</td>\n",
              "      <td>0.17385</td>\n",
              "      <td>0</td>\n",
              "      <td>0</td>\n",
              "      <td>0</td>\n",
              "      <td>0</td>\n",
              "      <td>0</td>\n",
              "      <td>0</td>\n",
              "      <td>0</td>\n",
              "      <td>0</td>\n",
              "      <td>0</td>\n",
              "      <td>0</td>\n",
              "      <td>0</td>\n",
              "      <td>0</td>\n",
              "      <td>NaN</td>\n",
              "      <td>NaN</td>\n",
              "    </tr>\n",
              "    <tr>\n",
              "      <th>4</th>\n",
              "      <td>03D1fq</td>\n",
              "      <td>0.79857</td>\n",
              "      <td>0.79857</td>\n",
              "      <td>0.0</td>\n",
              "      <td>24.36050</td>\n",
              "      <td>0.17435</td>\n",
              "      <td>0</td>\n",
              "      <td>0</td>\n",
              "      <td>0</td>\n",
              "      <td>0</td>\n",
              "      <td>0</td>\n",
              "      <td>0</td>\n",
              "      <td>0</td>\n",
              "      <td>0</td>\n",
              "      <td>0</td>\n",
              "      <td>0</td>\n",
              "      <td>0</td>\n",
              "      <td>0</td>\n",
              "      <td>NaN</td>\n",
              "      <td>NaN</td>\n",
              "    </tr>\n",
              "  </tbody>\n",
              "</table>\n",
              "</div>"
            ],
            "text/plain": [
              "    #name     zcmb     zhel   dz        mb  ...  set  ra  dec  biascor  Unnamed: 19\n",
              "0  03D1au  0.50309  0.50309  0.0  22.93445  ...    0   0    0      NaN          NaN\n",
              "1  03D1ax  0.49480  0.49480  0.0  22.88020  ...    0   0    0      NaN          NaN\n",
              "2  03D1co  0.67767  0.67767  0.0  24.03770  ...    0   0    0      NaN          NaN\n",
              "3  03D1ew  0.86650  0.86650  0.0  24.34685  ...    0   0    0      NaN          NaN\n",
              "4  03D1fq  0.79857  0.79857  0.0  24.36050  ...    0   0    0      NaN          NaN\n",
              "\n",
              "[5 rows x 20 columns]"
            ]
          },
          "metadata": {
            "tags": []
          },
          "execution_count": 81
        }
      ]
    },
    {
      "cell_type": "code",
      "metadata": {
        "colab": {
          "base_uri": "https://localhost:8080/"
        },
        "id": "RfCurVIjfhXN",
        "outputId": "efc8a6a5-36ce-471e-aeca-6f01fdd9fcb0"
      },
      "source": [
        "z_sne = sne_datos['zcmb']\n",
        "mb_sne = sne_datos['mb']\n",
        "dmb_sne = sne_datos['dmb']\n",
        "\n",
        "#Estos datos tienen matriz de covarianza. Tiene errores estadísticos,\n",
        "# sistemáticos, que tienen que ver con nuestros instrumentos e ignorancia.\n",
        "cov_sne_tot = cov_sne + np.diag(sne_datos['dmb'])**2\n",
        "\n",
        "print('zmin, zmax: %.4f, %.4f'%(np.min(z_sne),np.max(z_sne)))"
      ],
      "execution_count": 83,
      "outputs": [
        {
          "output_type": "stream",
          "text": [
            "zmin, zmax: 0.0101, 2.2600\n"
          ],
          "name": "stdout"
        }
      ]
    },
    {
      "cell_type": "code",
      "metadata": {
        "id": "ufdOBHPHfhXO"
      },
      "source": [
        "#Asumiremos el siguiente valor de MB\n",
        "MB = -19.4\n",
        "\n",
        "mB_LCDM = lambda z: 5*np.log10(LCDM.luminosity_distance(z)) + 25 + MB\n",
        "mB_wCDM = lambda z: 5*np.log10(wCDM.luminosity_distance(z)) + 25 + MB\n",
        "\n",
        "mB_LCDM = np.vectorize(mB_LCDM)\n",
        "mB_wCDM = np.vectorize(mB_wCDM)"
      ],
      "execution_count": 84,
      "outputs": []
    },
    {
      "cell_type": "code",
      "metadata": {
        "colab": {
          "base_uri": "https://localhost:8080/",
          "height": 523
        },
        "id": "rTPRxH62fhXO",
        "outputId": "01856748-9011-433d-b042-6acf109fad08"
      },
      "source": [
        "z_to_plot = np.arange(5e-3,2.5,0.001)\n",
        "\n",
        "fig, ax = plt.subplots(1,1,figsize=(10,8))\n",
        "\n",
        "ax.errorbar(z_sne,mb_sne,dmb_sne,ls=' ',marker='.')\n",
        "ax.plot(z_to_plot,mB_LCDM(z_to_plot),label=r'$\\Lambda$CDM')\n",
        "ax.plot(z_to_plot,mB_wCDM(z_to_plot),label=r'$w$CDM')\n",
        "\n",
        "ax.legend(loc=0)\n",
        "ax.set_xlabel(r'$z$',fontsize=18)\n",
        "ax.set_ylabel(r'$m_B$',fontsize=18)"
      ],
      "execution_count": 85,
      "outputs": [
        {
          "output_type": "execute_result",
          "data": {
            "text/plain": [
              "Text(0, 0.5, '$m_B$')"
            ]
          },
          "metadata": {
            "tags": []
          },
          "execution_count": 85
        },
        {
          "output_type": "display_data",
          "data": {
            "image/png": "[encoded data removed]",
            "text/plain": [
              "<Figure size 720x576 with 1 Axes>"
            ]
          },
          "metadata": {
            "tags": [],
            "needs_background": "light"
          }
        }
      ]
    },
    {
      "cell_type": "markdown",
      "metadata": {
        "id": "iQGVE7ICfhXP"
      },
      "source": [
        "Que modelo se ajusta mejor a los datos?\n",
        "\n",
        "El método de chi^2 calcula cuánto se desvía considerando los errores de nuestra observación:\n",
        "$$\\chi^2 = \\frac{(\\rm observacion - prediccion\\, teoria)^2}{\\rm error\\, observado^2}$$\n",
        "Esto lo haremos para cronometros cosmicos y supernovas:\n",
        "\n",
        "Cronometros cosmicos:\n",
        "\n",
        "$$\\chi_{cc}^2 = \\sum_i \\frac{\\left[H_i - H^{\\rm teo}(z_i)\\right]^2}{\\sigma_{H,i}}$$\n",
        "En este caso es simple porque no hay correlación."
      ]
    },
    {
      "cell_type": "markdown",
      "metadata": {
        "id": "kX8MbvgSfhXP"
      },
      "source": [
        "Supernovas:\n",
        "\n",
        "$$\\chi_{sne}^2 = \\left[m_{B,i} - m_B^{\\rm teo}(z_i)\\right] \\mathcal{C}^{-1}_{ij} \\left[m_{B,j} - m_B^{\\rm teo}(z_j)\\right] $$\n",
        "Para el caso de las supernovas sí hay correlación y por eso es más complejo."
      ]
    },
    {
      "cell_type": "markdown",
      "metadata": {
        "id": "Vzg0LpOdNC-Y"
      },
      "source": [
        "Calcula $\\chi^2_{sne}$ y $\\chi^2_{cc}$ para los modelos $\\Lambda$CDM y $w$CDM\n"
      ]
    },
    {
      "cell_type": "code",
      "metadata": {
        "id": "wVq7AzZGch6U"
      },
      "source": [
        "chi2_hz_LCDM = np.sum((Hz-Hz_class(z_hz))**2/err_hz**2)\n",
        "chi2_hz_wCDM = np.sum((Hz-Hz_wCDM(z_hz))**2/err_hz**2)"
      ],
      "execution_count": 86,
      "outputs": []
    },
    {
      "cell_type": "code",
      "metadata": {
        "id": "6j0n4gbqcznW"
      },
      "source": [
        "inv_cov_sne = np.linalg.inv(cov_sne_tot) # inverso de la matriz de covarianza\n",
        "\n",
        "diff_LCDM = mb_sne - mB_LCDM(z_sne) # observación - teoría\n",
        "chi_sne_LCDM = np.dot(np.dot(diff_LCDM,inv_cov_sne),diff_LCDM)\n",
        "\n",
        "diff_wCDM = mb_sne - mB_wCDM(z_sne)\n",
        "chi_sne_wCDM = np.dot(np.dot(diff_wCDM,inv_cov_sne),diff_wCDM)"
      ],
      "execution_count": 87,
      "outputs": []
    },
    {
      "cell_type": "code",
      "metadata": {
        "colab": {
          "base_uri": "https://localhost:8080/"
        },
        "id": "6VClfh8edHnB",
        "outputId": "001f177e-d996-4a72-bff6-f1c1423732f6"
      },
      "source": [
        "print(r'     $\\Lambda$CDM     $w$CDM')\n",
        "print(r'CC:     %.2f          %.2f'%(chi2_hz_LCDM,chi2_hz_wCDM)) # performance para explicar modelos cosmicos\n",
        "print(r'Sne:   %.2f        %.2f'%(chi_sne_LCDM,chi_sne_wCDM)) # performance para explicar supernovas\n",
        "print(r'Total: %.2f        %.2f'%(chi_sne_LCDM+chi2_hz_LCDM,chi_sne_wCDM+chi2_hz_wCDM))"
      ],
      "execution_count": 89,
      "outputs": [
        {
          "output_type": "stream",
          "text": [
            "     $\\Lambda$CDM     $w$CDM\n",
            "CC:     14.97          16.82\n",
            "Sne:   1073.46        1041.23\n",
            "Total: 1088.44        1058.05\n"
          ],
          "name": "stdout"
        }
      ]
    },
    {
      "cell_type": "markdown",
      "metadata": {
        "id": "71qkYTdufhXQ"
      },
      "source": [
        "#### El valor de mejor ajuste a los datos\n",
        "\n",
        " - Best-fit para $\\Lambda$CDM fijando $\\Omega_b = 0.05$ y usando dos parametros libres ($H_0$ y $\\Omega_{cdm}$)\n",
        " - Best-fit para $w$CDM fijando $\\Omega_b = 0.05$ y usando cuatros parametros libres ($H_0$, $\\Omega_{cdm}$, $w_0$, $w_a$) y considerando un prior gaussiano sobre $w_0 = \\mathcal{N}(\\mu = -0.92, \\sigma= 0.1)$\n",
        "\n",
        " Nota: En ambos casos queremos explorar el mejor ajuste."
      ]
    },
    {
      "cell_type": "code",
      "metadata": {
        "id": "QaBo1QuvfhXS"
      },
      "source": [
        "del H0,OmCDM,OmB"
      ],
      "execution_count": 90,
      "outputs": []
    },
    {
      "cell_type": "markdown",
      "metadata": {
        "id": "OyboYCkaQHMT"
      },
      "source": [
        "Funcion LCDM_cosmology"
      ]
    },
    {
      "cell_type": "code",
      "metadata": {
        "id": "C4tg0_WOfhXS"
      },
      "source": [
        "def LCDM_cosmology(theta_vec):\n",
        "    H0, OmCDM = theta_vec\n",
        "    OmB = 0.05\n",
        "    \n",
        "    cosmo_arguments = {'h': H0/100, 'Omega_cdm': OmCDM, 'Omega_b': OmB}\n",
        "    cosmo = Class()\n",
        "    cosmo.set(cosmo_arguments)\n",
        "    cosmo.compute()\n",
        "    \n",
        "    MB = -19.4\n",
        "    mB = lambda z: 5*np.log10(cosmo.luminosity_distance(z)) + 25 + MB\n",
        "    Hz = lambda z: cc*cosmo.Hubble(z) #H(0)\n",
        "    \n",
        "    mB_tab = [mB(zs) for zs in z_sne]\n",
        "    Hz_tab = [Hz(zh) for zh in z_hz]\n",
        "    \n",
        "    cosmo.struct_cleanup() # limpia la estructura de class\n",
        "    cosmo.empty()\n",
        "    \n",
        "    return np.array(mB_tab), np.array(Hz_tab)"
      ],
      "execution_count": 93,
      "outputs": []
    },
    {
      "cell_type": "markdown",
      "metadata": {
        "id": "hL-jBvrSNlAA"
      },
      "source": [
        "Funcion wCDM_cosmology\n",
        "\n"
      ]
    },
    {
      "cell_type": "code",
      "metadata": {
        "id": "ZDcHArw5ech3"
      },
      "source": [
        "def wCDM_cosmology(theta_vec):\n",
        "    H0, OmCDM,w0,wa = theta_vec\n",
        "    OmB = 0.05\n",
        "    OmeDE = 1 - OmB - OmCDM - 5.047e-5\n",
        "    \n",
        "    cosmo_arguments = {'h': H0/100, 'Omega_cdm': OmCDM, 'Omega_b': OmB,'Omega_fld':OmeDE,\n",
        "                       'fluid_equation_of_state':'CLP','w0_fld':w0,'wa_fld':wa}\n",
        "    cosmo = Class()\n",
        "    cosmo.set(cosmo_arguments)\n",
        "    cosmo.compute()\n",
        "    \n",
        "    MB = -19.4\n",
        "    mB = lambda z: 5*np.log10(cosmo.luminosity_distance(z)) + 25 + MB\n",
        "    Hz = lambda z: cc*cosmo.Hubble(z)\n",
        "    \n",
        "    mB_tab = [mB(zs) for zs in z_sne]\n",
        "    Hz_tab = [Hz(zh) for zh in z_hz]\n",
        "    \n",
        "    cosmo.struct_cleanup()\n",
        "    cosmo.empty()\n",
        "    \n",
        "    return np.array(mB_tab), np.array(Hz_tab)"
      ],
      "execution_count": 94,
      "outputs": []
    },
    {
      "cell_type": "code",
      "metadata": {
        "id": "vXENp9eQfhXT"
      },
      "source": [
        "def chi2_hz(theta_vec,cosmo):\n",
        "    if cosmo == 'LCDM':\n",
        "        Hz_theo = LCDM_cosmology(theta_vec)[1]\n",
        "    else:\n",
        "        Hz_theo = wCDM_cosmology(theta_vec)[1]\n",
        "    chi2hz = np.sum((Hz - Hz_theo)**2/err_hz**2)\n",
        "    return chi2hz"
      ],
      "execution_count": 95,
      "outputs": []
    },
    {
      "cell_type": "code",
      "metadata": {
        "id": "P4g-zav4fhXT"
      },
      "source": [
        "def chi2_sn(theta_vec,cosmo):\n",
        "    if cosmo == 'LCDM':\n",
        "        mB_theo = LCDM_cosmology(theta_vec)[0]\n",
        "    else:\n",
        "        mB_theo = wCDM_cosmology(theta_vec)[0]\n",
        "    diff = mb_sne - mB_theo\n",
        "    chi2sn = np.dot(np.dot(diff,inv_cov_sne),diff)\n",
        "    return chi2sn"
      ],
      "execution_count": 96,
      "outputs": []
    },
    {
      "cell_type": "markdown",
      "metadata": {
        "id": "OIcYxWCXfJcW"
      },
      "source": [
        "$$\\chi^2 \\propto -2 \\log \\mathcal{L}$$\n",
        "\n",
        "El prior gaussiano que usaremos para wCDM:\n",
        "$$\\propto \\exp(-\\frac{(x - \\mu)^2}{2\\sigma^2})$$\n",
        "Deberíamos usar lo que está dentro del exponencial, aplicando un logaritmo."
      ]
    },
    {
      "cell_type": "code",
      "metadata": {
        "id": "99yeD8DhfhXT"
      },
      "source": [
        "def prior_w0(theta_vec):\n",
        "    H0, OmCDM,w0,wa = theta_vec\n",
        "    pw = (-0.92 - w0)**2/0.1**2\n",
        "    return pw"
      ],
      "execution_count": 98,
      "outputs": []
    },
    {
      "cell_type": "code",
      "metadata": {
        "id": "zdKrIh8HfhXT"
      },
      "source": [
        "chi2_tot_LCDM = lambda theta_vec: chi2_hz(theta_vec,'LCDM') + chi2_sn(theta_vec,'LCDM')\n",
        "chi2_tot_wCDM = lambda theta_vec: chi2_hz(theta_vec,'wCDM') + chi2_sn(theta_vec,'wCDM') + prior_w0(theta_vec)"
      ],
      "execution_count": 99,
      "outputs": []
    },
    {
      "cell_type": "code",
      "metadata": {
        "id": "WRDGKaJkfhXV"
      },
      "source": [
        "from scipy.optimize import minimize, fmin\n",
        "results_LCDM = minimize(chi2_tot_LCDM, x0=[70.0,0.25], bounds=((55,85),(0.2,0.3)))\n",
        "results_wCDM = minimize(chi2_tot_wCDM, x0=[70.0,0.25,-1.,-0.1], bounds=((55,85),(0.2,0.3),(-1.5,-0.55),(-1.,1.0)))"
      ],
      "execution_count": 100,
      "outputs": []
    },
    {
      "cell_type": "code",
      "metadata": {
        "colab": {
          "base_uri": "https://localhost:8080/"
        },
        "id": "07YRREbsfhXW",
        "outputId": "ea7ac270-6917-43f7-f7a3-e3a45ca445a5"
      },
      "source": [
        "results_LCDM"
      ],
      "execution_count": 101,
      "outputs": [
        {
          "output_type": "execute_result",
          "data": {
            "text/plain": [
              "      fun: 1041.6182751034946\n",
              " hess_inv: <2x2 LbfgsInvHessProduct with dtype=float64>\n",
              "      jac: array([-0.0007276 , -0.01041371])\n",
              "  message: b'CONVERGENCE: REL_REDUCTION_OF_F_<=_FACTR*EPSMCH'\n",
              "     nfev: 27\n",
              "      nit: 6\n",
              "   status: 0\n",
              "  success: True\n",
              "        x: array([68.32145576,  0.25362097])"
            ]
          },
          "metadata": {
            "tags": []
          },
          "execution_count": 101
        }
      ]
    },
    {
      "cell_type": "code",
      "metadata": {
        "colab": {
          "base_uri": "https://localhost:8080/"
        },
        "id": "CaaZiX1ZfhXW",
        "outputId": "c7c3fc41-568b-4aef-b1b9-c1a239c5c51d"
      },
      "source": [
        "results_wCDM"
      ],
      "execution_count": 102,
      "outputs": [
        {
          "output_type": "execute_result",
          "data": {
            "text/plain": [
              "      fun: 1041.745774308257\n",
              " hess_inv: <4x4 LbfgsInvHessProduct with dtype=float64>\n",
              "      jac: array([-5.91171556e-04,  4.77484718e-04, -9.09494702e-05,  3.24757821e-01])\n",
              "  message: b'CONVERGENCE: REL_REDUCTION_OF_F_<=_FACTR*EPSMCH'\n",
              "     nfev: 270\n",
              "      nit: 30\n",
              "   status: 0\n",
              "  success: True\n",
              "        x: array([68.13789384,  0.29279982, -0.96397221, -1.        ])"
            ]
          },
          "metadata": {
            "tags": []
          },
          "execution_count": 102
        }
      ]
    },
    {
      "cell_type": "markdown",
      "metadata": {
        "id": "H7QJjNVugYj8"
      },
      "source": [
        "Hemos encontrado los mínimos para ambos casos (arriba en $\\text{fun}$)"
      ]
    },
    {
      "cell_type": "markdown",
      "metadata": {
        "id": "Sgj_ySUCHVa9"
      },
      "source": [
        "Grafica el best-fit de $\\Lambda$CDM y $w$CDM con los datos\n",
        "\n"
      ]
    },
    {
      "cell_type": "markdown",
      "metadata": {
        "id": "EdTRd_O5fhXX"
      },
      "source": [
        "### Aplicacion del teorema de Bayes\n",
        "\n",
        "$$ \\mathcal{P}(\\theta_i|d) = \\frac{\\mathcal{L}(d|\\theta_i)p(\\theta_i)}{\\mathcal{E}}$$\n",
        "\n",
        "Asumamos la Likelihood:\n",
        "$$\\mathcal{L} \\propto \\exp - \\frac{1}{2} \\chi^2 $$"
      ]
    },
    {
      "cell_type": "markdown",
      "metadata": {
        "id": "OqSZ-_EpIy8_"
      },
      "source": [
        "Calcula $-\\log \\mathcal{P}$ para $\\Lambda$CDM dentro el espacio de parametros $H_0 = [55,85]$ y $\\Omega_{cdm} = [0.2,0.3]$"
      ]
    },
    {
      "cell_type": "code",
      "metadata": {
        "id": "k0Uti26__3JQ"
      },
      "source": [
        ""
      ],
      "execution_count": null,
      "outputs": []
    }
  ]
}